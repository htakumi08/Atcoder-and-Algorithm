{
 "cells": [
  {
   "cell_type": "code",
   "execution_count": null,
   "metadata": {},
   "outputs": [],
   "source": [
    "# A\n",
    "from collections import Counter\n",
    "a = list(map(int, input().split()))\n",
    "\n",
    "a = Counter(a)\n",
    "\n",
    "if a.get(7) and a.get(5):\n",
    "    if a[7]==1 and a[5]==2:\n",
    "        print('YES')\n",
    "        exit()\n",
    "print('NO')"
   ]
  },
  {
   "cell_type": "code",
   "execution_count": null,
   "metadata": {},
   "outputs": [],
   "source": [
    "# B \n",
    "N,L = map(int, input().split())\n",
    "s = [input() for _ in range(N)]\n",
    "s.sort()\n",
    "print(*s, sep='')"
   ]
  },
  {
   "cell_type": "code",
   "execution_count": null,
   "metadata": {},
   "outputs": [],
   "source": [
    "\n",
    "# C\n",
    "N,K = map(int, input().split())\n",
    "D = input().split()\n",
    "\n",
    "for i in range(N, 10**5):\n",
    "    i_str = str(i)\n",
    "    count = 0\n",
    "    for j in range(K):\n",
    "        if D[j] not in i_str:\n",
    "            count += 1\n",
    "    if count == len(D):\n",
    "        ans = i\n",
    "        break\n",
    "print(ans)"
   ]
  }
 ],
 "metadata": {
  "kernelspec": {
   "display_name": "base",
   "language": "python",
   "name": "python3"
  },
  "language_info": {
   "name": "python",
   "version": "3.11.4"
  }
 },
 "nbformat": 4,
 "nbformat_minor": 2
}
