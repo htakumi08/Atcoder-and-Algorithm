{
 "cells": [
  {
   "cell_type": "code",
   "execution_count": null,
   "metadata": {},
   "outputs": [],
   "source": [
    "#B\n",
    "N,K = map(int, input().split())\n",
    "ans = 1\n",
    "for i in range(N):\n",
    "    if i == 0:\n",
    "        ans *= K\n",
    "    else:\n",
    "        ans *= (K-1)\n",
    "print(ans)"
   ]
  }
 ],
 "metadata": {
  "language_info": {
   "name": "python"
  }
 },
 "nbformat": 4,
 "nbformat_minor": 2
}
