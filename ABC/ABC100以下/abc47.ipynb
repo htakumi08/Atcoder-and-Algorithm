{
 "cells": [
  {
   "cell_type": "code",
   "execution_count": null,
   "metadata": {},
   "outputs": [],
   "source": [
    "#B\n",
    "w,h,n = map(int, input().split())\n",
    "x = []\n",
    "y = []\n",
    "a = []\n",
    "for i in range(n):\n",
    "    x_,y_,a_ = map(int, input().split())\n",
    "    x.append(x_)\n",
    "    y.append(y_)\n",
    "    a.append(a_)\n",
    "\n",
    "num = [[False]*w for _ in range(h)]\n",
    "for i in range(n):\n",
    "    if a[i] == 1:\n",
    "        for j in range(x[i]):\n",
    "            for k in range(h):\n",
    "                num[k][j] = True\n",
    "    elif a[i] == 2:\n",
    "        for j in range(x[i], w):\n",
    "            for k in range(h):\n",
    "                num[k][j] = True\n",
    "    elif a[i] == 3:\n",
    "        for j in range(w):\n",
    "            for k in range(y[i]):\n",
    "                num[k][j]= True    \n",
    "    elif a[i] == 4:\n",
    "        for j in range(w):\n",
    "            for k in range(y[i], h):\n",
    "                num[k][j]= True\n",
    "\n",
    "count = 0\n",
    "for i in range(w):\n",
    "    for j in range(h):\n",
    "        if not num[j][i]:\n",
    "            count += 1               \n",
    "print(count)"
   ]
  }
 ],
 "metadata": {
  "language_info": {
   "name": "python"
  }
 },
 "nbformat": 4,
 "nbformat_minor": 2
}
