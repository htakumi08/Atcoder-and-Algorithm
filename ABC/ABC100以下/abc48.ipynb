{
 "cells": [
  {
   "cell_type": "code",
   "execution_count": null,
   "metadata": {},
   "outputs": [],
   "source": [
    "# B\n",
    "a,b,x = map(int, input().split())\n",
    "\n",
    "# F:0~nまでの整数の中でxで割り切れるものの数を返す\n",
    "def F(n,x):\n",
    "    # 0もカウントするため、1を足す。\n",
    "    return n//x + 1\n",
    "    \n",
    "# bまでのxの倍数の数から、a-1までの倍数の数を引くことで、a~bのxの倍数の数を求める\n",
    "ans = F(b,x) - F(a-1,x)\n",
    "print(ans)"
   ]
  }
 ],
 "metadata": {
  "language_info": {
   "name": "python"
  }
 },
 "nbformat": 4,
 "nbformat_minor": 2
}
