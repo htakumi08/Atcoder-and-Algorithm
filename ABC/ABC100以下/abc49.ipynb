{
 "cells": [
  {
   "cell_type": "code",
   "execution_count": null,
   "metadata": {},
   "outputs": [],
   "source": [
    "# C\n",
    "S = input()\n",
    "divide = [\"dream\",\"dreamer\",\"erase\",\"eraser\"]\n",
    "\n",
    "S = S[::-1]\n",
    "for i in range(4):\n",
    "    divide[i] = divide[i][::-1]\n",
    "\n",
    "can = True\n",
    "i = 0\n",
    "for _ in range(len(S)):\n",
    "    can2 = False\n",
    "    for d in divide:\n",
    "        if S[i:i+len(d)] == d:\n",
    "            can2 = True\n",
    "            i += len(d)\n",
    "            break\n",
    "    if not can2:\n",
    "        can = False\n",
    "        break\n",
    "    if i == len(S):\n",
    "        break\n",
    "\n",
    "print('YES' if can else 'NO')"
   ]
  }
 ],
 "metadata": {
  "language_info": {
   "name": "python"
  }
 },
 "nbformat": 4,
 "nbformat_minor": 2
}
