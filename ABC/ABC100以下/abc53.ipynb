{
 "cells": [
  {
   "cell_type": "code",
   "execution_count": null,
   "metadata": {},
   "outputs": [],
   "source": [
    "# B\n",
    "s = input()\n",
    "\n",
    "minn = float('inf')\n",
    "maxx = 0\n",
    "for i in range(len(s)):\n",
    "    if 'A' == s[i]:\n",
    "        num = i\n",
    "        minn = min(num, minn)\n",
    "    elif 'Z' == s[i]:\n",
    "        num = i\n",
    "        maxx = max(num, maxx)\n",
    "print(maxx - minn + 1)"
   ]
  }
 ],
 "metadata": {
  "language_info": {
   "name": "python"
  }
 },
 "nbformat": 4,
 "nbformat_minor": 2
}
