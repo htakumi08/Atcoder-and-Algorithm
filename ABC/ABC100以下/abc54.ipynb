{
 "cells": [
  {
   "cell_type": "code",
   "execution_count": null,
   "metadata": {},
   "outputs": [],
   "source": [
    "# C\n",
    "import itertools\n",
    "N,M = map(int, input().split())\n",
    "G = [[0]*N for _ in range(N)]\n",
    "for _ in range(M):\n",
    "    a,b = map(int, input().split())\n",
    "    G[a-1][b-1] = 1\n",
    "    G[b-1][a-1] = 1\n",
    "\n",
    "ans = 0\n",
    "for num in itertools.permutations(range(N)):\n",
    "    if num[0] == 0:\n",
    "        cnt = 1\n",
    "        for i in range(N-1):\n",
    "            if G[num[i]][num[i+1]] == 1:\n",
    "                cnt += 1\n",
    "        if cnt == N:\n",
    "            ans += 1\n",
    "\n",
    "print(ans)\n"
   ]
  }
 ],
 "metadata": {
  "language_info": {
   "name": "python"
  }
 },
 "nbformat": 4,
 "nbformat_minor": 2
}
