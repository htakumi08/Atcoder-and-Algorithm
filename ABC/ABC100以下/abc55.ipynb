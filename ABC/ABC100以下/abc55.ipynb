{
 "cells": [
  {
   "cell_type": "code",
   "execution_count": null,
   "metadata": {},
   "outputs": [],
   "source": [
    "#B\n",
    "N = int(input())\n",
    "\n",
    "power = 1\n",
    "MOD = 10**9+7\n",
    "for i in range(1, N+1):\n",
    "    # 余りのみを次のループに持ち込んでる\n",
    "    power = (power*i) % MOD\n",
    "print(power)"
   ]
  }
 ],
 "metadata": {
  "language_info": {
   "name": "python"
  }
 },
 "nbformat": 4,
 "nbformat_minor": 2
}
