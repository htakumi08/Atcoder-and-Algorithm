{
 "cells": [
  {
   "cell_type": "code",
   "execution_count": null,
   "metadata": {},
   "outputs": [],
   "source": [
    "# C\n",
    "N = int(input())\n",
    "\n",
    "def Func(A,B):\n",
    "    return max(len(str(A)),len(str(B)))\n",
    "\n",
    "ans = len(str(N))\n",
    "for A in range(1,int(N**0.5)+1):\n",
    "    if N % A == 0:\n",
    "        B = N // A\n",
    "        ans = min(ans, Func(A,B))\n",
    "\n",
    "print(ans)"
   ]
  }
 ],
 "metadata": {
  "language_info": {
   "name": "python"
  }
 },
 "nbformat": 4,
 "nbformat_minor": 2
}
