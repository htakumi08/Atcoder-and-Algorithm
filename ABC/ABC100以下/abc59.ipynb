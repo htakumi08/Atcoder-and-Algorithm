{
 "cells": [
  {
   "cell_type": "code",
   "execution_count": null,
   "metadata": {},
   "outputs": [],
   "source": [
    "# C\n",
    "n = int(input())\n",
    "a = list(map(int, input().split()))\n",
    "cs = []\n",
    "\n",
    "# 累積和の計算\n",
    "for i in range(n):\n",
    "    if i == 0:\n",
    "        cs.append(a[0])\n",
    "    else:\n",
    "        cs.append(a[i] + cs[i-1])\n",
    "\n",
    "#️ 奇数番目正\n",
    "# num:累積和の修正量　→　次の累積和にも影響を与える。\n",
    "ans1 = 0\n",
    "num = 0\n",
    "for i in range(n):\n",
    "    # i：偶数のとき\n",
    "    if i % 2 == 0 and cs[i] + num <= 0:\n",
    "        ans1 += -(cs[i]+num) + 1\n",
    "        num += -(cs[i]+num) + 1\n",
    "    # i:奇数のとき\n",
    "    if i % 2 and cs[i] + num >= 0:\n",
    "        ans1 += cs[i] + num + 1\n",
    "        num -= cs[i] + num + 1\n",
    "\n",
    "# 奇数番目負\n",
    "ans2 = 0\n",
    "num = 0\n",
    "for i in range(n):\n",
    "    #️ i：偶数のとき\n",
    "    if i % 2 and cs[i] + num <= 0:\n",
    "        ans2 += -(cs[i] + num) + 1\n",
    "        num += -(cs[i] + num) + 1\n",
    "    # i:奇数のとき\n",
    "    if i % 2 == 0 and cs[i] + num >= 0:\n",
    "        ans2 += cs[i] + num + 1\n",
    "        num -= cs[i] + num + 1\n",
    "\n",
    "print(min(ans1,ans2))"
   ]
  }
 ],
 "metadata": {
  "language_info": {
   "name": "python"
  }
 },
 "nbformat": 4,
 "nbformat_minor": 2
}
