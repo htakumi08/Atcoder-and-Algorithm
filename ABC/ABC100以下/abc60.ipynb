{
 "cells": [
  {
   "cell_type": "code",
   "execution_count": null,
   "metadata": {},
   "outputs": [],
   "source": [
    "# B\n",
    "A,B,C = map(int, input().split())\n",
    "\n",
    "can = False\n",
    "for k in range(B):\n",
    "    if (A*k) % B == C:\n",
    "        can = True\n",
    "        break\n",
    "print('YES' if can else 'NO')"
   ]
  }
 ],
 "metadata": {
  "language_info": {
   "name": "python"
  }
 },
 "nbformat": 4,
 "nbformat_minor": 2
}
