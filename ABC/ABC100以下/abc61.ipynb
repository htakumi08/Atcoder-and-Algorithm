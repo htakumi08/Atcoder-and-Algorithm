{
 "cells": [
  {
   "cell_type": "code",
   "execution_count": null,
   "metadata": {},
   "outputs": [],
   "source": [
    "# B\n",
    "n,m = map(int, input().split())\n",
    "a = []\n",
    "b = []\n",
    "for i in range(m):\n",
    "    a_,b_ = map(int, input().split())\n",
    "    a.append(a_)\n",
    "    b.append(b_)\n",
    "\n",
    "num = [0]*51\n",
    "for i in range(m):\n",
    "    num[a[i]-1] += 1\n",
    "    num[b[i]-1] += 1\n",
    "for i in range(n):\n",
    "    print(num[i])"
   ]
  }
 ],
 "metadata": {
  "language_info": {
   "name": "python"
  }
 },
 "nbformat": 4,
 "nbformat_minor": 2
}
