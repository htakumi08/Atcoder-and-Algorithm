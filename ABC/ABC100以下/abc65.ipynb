{
 "cells": [
  {
   "cell_type": "code",
   "execution_count": null,
   "metadata": {},
   "outputs": [],
   "source": [
    "# B\n",
    "N = int(input())\n",
    "a = [int(input()) for _ in range(N)]\n",
    "\n",
    "count = 0\n",
    "cur = 1\n",
    "for _ in range(N):\n",
    "    # ボタン2が光ってる場合、終了\n",
    "    if cur == 2:\n",
    "        print(count)\n",
    "        break\n",
    "\n",
    "    # 次のボタンに移動\n",
    "    cur = a[cur-1]\n",
    "    count += 1\n",
    "\n",
    "if cur != 2:\n",
    "    print(-1)"
   ]
  }
 ],
 "metadata": {
  "language_info": {
   "name": "python"
  }
 },
 "nbformat": 4,
 "nbformat_minor": 2
}
