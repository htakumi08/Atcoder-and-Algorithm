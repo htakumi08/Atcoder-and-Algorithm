{
 "cells": [
  {
   "cell_type": "code",
   "execution_count": null,
   "metadata": {},
   "outputs": [],
   "source": [
    "# B\n",
    "n,k = map(int, input().split())\n",
    "L = list(map(int, input().split()))\n",
    "k_max = 0\n",
    "L.sort(reverse=True)\n",
    "\n",
    "for i in range(k):\n",
    "    k_max += L[i]\n",
    "print(k_max)"
   ]
  }
 ],
 "metadata": {
  "language_info": {
   "name": "python"
  }
 },
 "nbformat": 4,
 "nbformat_minor": 2
}
