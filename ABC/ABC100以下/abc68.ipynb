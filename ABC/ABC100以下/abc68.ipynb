{
 "cells": [
  {
   "cell_type": "code",
   "execution_count": null,
   "metadata": {},
   "outputs": [],
   "source": [
    "# B \n",
    "n = int(input())\n",
    "\n",
    "result = 0\n",
    "ans = 1\n",
    "for i in range(1, n+1):\n",
    "    this_count = 0\n",
    "    tmp = i\n",
    "    while tmp%2 == 0:\n",
    "        tmp = tmp//2\n",
    "        this_count += 1\n",
    "    if result < this_count:\n",
    "        result = this_count \n",
    "        ans = i"
   ]
  }
 ],
 "metadata": {
  "language_info": {
   "name": "python"
  }
 },
 "nbformat": 4,
 "nbformat_minor": 2
}
