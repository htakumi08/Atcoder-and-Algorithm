{
 "cells": [
  {
   "cell_type": "code",
   "execution_count": null,
   "metadata": {},
   "outputs": [],
   "source": [
    "#B\n",
    "A,B,C,D = map(int, input().split())\n",
    "\n",
    "ans = 0\n",
    "start = max(A,C)\n",
    "stop = min(B,D)\n",
    "ans = max(0, stop - start)\n",
    "print(ans)"
   ]
  }
 ],
 "metadata": {
  "language_info": {
   "name": "python"
  }
 },
 "nbformat": 4,
 "nbformat_minor": 2
}
