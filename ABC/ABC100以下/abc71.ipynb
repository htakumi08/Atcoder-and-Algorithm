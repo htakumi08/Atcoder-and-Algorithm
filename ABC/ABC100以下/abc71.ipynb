{
 "cells": [
  {
   "cell_type": "code",
   "execution_count": null,
   "metadata": {},
   "outputs": [],
   "source": [
    "#B\n",
    "S = input()\n",
    "S_set = sorted(set(S))\n",
    "alpha = 'abcdefghijklmnopqrstuvwxyz'\n",
    "\n",
    "count = 0\n",
    "for i in alpha:\n",
    "    if i not in S_set:\n",
    "        print(i)\n",
    "        break\n",
    "    else:\n",
    "        count += 1\n",
    "\n",
    "if count == 26:\n",
    "    print('None')"
   ]
  }
 ],
 "metadata": {
  "language_info": {
   "name": "python"
  }
 },
 "nbformat": 4,
 "nbformat_minor": 2
}
