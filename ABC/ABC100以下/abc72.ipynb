{
 "cells": [
  {
   "cell_type": "code",
   "execution_count": null,
   "metadata": {},
   "outputs": [],
   "source": [
    "#B\n",
    "s = input()\n",
    "\n",
    "ans = []\n",
    "for i in range(len(s)):\n",
    "    if i % 2 == 0:\n",
    "        ans.append(s[i])\n",
    "print(\"\".join(ans))"
   ]
  },
  {
   "cell_type": "code",
   "execution_count": null,
   "metadata": {},
   "outputs": [],
   "source": [
    "#C\n",
    "N =int(input())\n",
    "a = list(map(int, input().split()))\n",
    "\n",
    "# 存在しないkeyでもdefault値を割り当てる\n",
    "from collections import defaultdict\n",
    "dic = defaultdict(int)\n",
    "\n",
    "#　配列aの要素の操作値　→　defaultdictのkeyに設定しvaluesインクリメント\n",
    "for i in a:\n",
    "    dic[i+1] += 1\n",
    "    dic[i] += 1\n",
    "    dic[i-1] += 1\n",
    "\n",
    "max_val = max(list(dic.values()))\n",
    "print(max_val)"
   ]
  }
 ],
 "metadata": {
  "language_info": {
   "name": "python"
  }
 },
 "nbformat": 4,
 "nbformat_minor": 2
}
