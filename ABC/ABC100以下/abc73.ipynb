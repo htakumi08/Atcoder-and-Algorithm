{
 "cells": [
  {
   "cell_type": "code",
   "execution_count": null,
   "metadata": {},
   "outputs": [],
   "source": [
    "#C\n",
    "N = int(input())\n",
    "A = [int(input()) for _ in range(N)]\n",
    "A.sort()\n",
    "\n",
    "from collections import defaultdict\n",
    "dic = defaultdict(int)\n",
    "# defauldictのkeyにAの要素、valuesに要素の出現回数\n",
    "for i in A:\n",
    "    dic[i] += 1\n",
    "\n",
    "# values(出現回数)偶奇を調べる\n",
    "cnt = 0\n",
    "for i in dic.values():\n",
    "    if i % 2 != 0:\n",
    "        cnt += 1\n",
    "        \n",
    "print(cnt)"
   ]
  }
 ],
 "metadata": {
  "language_info": {
   "name": "python"
  }
 },
 "nbformat": 4,
 "nbformat_minor": 2
}
