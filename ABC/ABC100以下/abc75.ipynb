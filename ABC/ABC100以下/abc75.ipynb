{
 "cells": [
  {
   "cell_type": "code",
   "execution_count": null,
   "metadata": {},
   "outputs": [],
   "source": [
    "#B\n",
    "# B - Minesweeper  ABC75\n",
    "H,W = map(int, input().split())\n",
    "S = [list(input()) for _ in range(H)]\n",
    "\n",
    "\n",
    "# 差分の配列\n",
    "dx = [0,1,1,1,0,-1,-1,-1]\n",
    "dy = [1,1,0,-1,-1,-1,0,1]\n",
    "\n",
    "for x in range(W):\n",
    "    for y in range(H):\n",
    "        if S[y][x] == '.':\n",
    "            count = 0\n",
    "            for i in range(8):\n",
    "                # 差分を使って８方向を考える\n",
    "                nx,ny = x+dx[i],y+dy[i]\n",
    "                if 0 <= nx < W and 0 <= ny < H and S[ny][nx] == '#':\n",
    "                    count += 1\n",
    "            S[y][x] = str(count)\n",
    "\n",
    "for i in range(H):\n",
    "    print(*S[i], sep='')"
   ]
  }
 ],
 "metadata": {
  "language_info": {
   "name": "python"
  }
 },
 "nbformat": 4,
 "nbformat_minor": 2
}
