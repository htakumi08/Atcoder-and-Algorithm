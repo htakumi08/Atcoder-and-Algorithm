{
 "cells": [
  {
   "cell_type": "code",
   "execution_count": null,
   "metadata": {},
   "outputs": [],
   "source": [
    "# B \n",
    "s = input()\n",
    "\n",
    "ans = []\n",
    "for i in range(len(s)):\n",
    "    if i % 2 == 0:\n",
    "        ans.append(s[i])\n",
    "print(\"\".join(ans))\n",
    "\n",
    "# s = input()\n",
    "# s_ = \"\".join(s[i] for i in range(0, len(s), 2))\n",
    "# print(s_)"
   ]
  }
 ],
 "metadata": {
  "language_info": {
   "name": "python"
  }
 },
 "nbformat": 4,
 "nbformat_minor": 2
}
