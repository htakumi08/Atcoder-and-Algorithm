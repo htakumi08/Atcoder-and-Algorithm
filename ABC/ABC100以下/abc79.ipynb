{
 "cells": [
  {
   "cell_type": "code",
   "execution_count": null,
   "metadata": {},
   "outputs": [],
   "source": [
    "#C\n",
    "S = input()\n",
    "n = 3\n",
    "\n",
    "for i in range(2**n):\n",
    "    ans = S[0]\n",
    "    num = int(S[0])\n",
    "    for j in range(n):\n",
    "        if i & (1 << j):\n",
    "            ans += '+' + S[j+1]\n",
    "            num += int(S[j+1])\n",
    "        else:\n",
    "            ans += '-' + S[j+1]\n",
    "            num -= int(S[j+1])\n",
    "    if num == 7:\n",
    "        print(ans+'=7')\n",
    "        break"
   ]
  }
 ],
 "metadata": {
  "language_info": {
   "name": "python"
  }
 },
 "nbformat": 4,
 "nbformat_minor": 2
}
