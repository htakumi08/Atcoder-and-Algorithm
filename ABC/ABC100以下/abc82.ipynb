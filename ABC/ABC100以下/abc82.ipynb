{
 "cells": [
  {
   "cell_type": "code",
   "execution_count": null,
   "metadata": {},
   "outputs": [],
   "source": [
    "# B AC\n",
    "s = input() # sorted(input()) \n",
    "t = input()\n",
    "S = sorted(s)\n",
    "T = sorted(t, reverse=True)\n",
    "if S < T:\n",
    "    print(\"Yes\")\n",
    "else:\n",
    "    print(\"No\")"
   ]
  }
 ],
 "metadata": {
  "language_info": {
   "name": "python"
  }
 },
 "nbformat": 4,
 "nbformat_minor": 2
}
