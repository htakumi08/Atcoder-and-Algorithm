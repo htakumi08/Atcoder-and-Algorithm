{
 "cells": [
  {
   "cell_type": "code",
   "execution_count": null,
   "metadata": {},
   "outputs": [],
   "source": [
    "#B\n",
    "n,a,b = map(int, input().split())\n",
    "def func(x):\n",
    "    sum_ = 0\n",
    "    while x > 0:\n",
    "        sum_ += x%10\n",
    "        x //= 10\n",
    "    return sum_\n",
    "\n",
    "total = 0\n",
    "for i in range(1, n+1):\n",
    "    sum_ = func(i)\n",
    "    if a <= sum_ <= b:\n",
    "        total += i\n",
    "print(total)"
   ]
  }
 ],
 "metadata": {
  "language_info": {
   "name": "python"
  }
 },
 "nbformat": 4,
 "nbformat_minor": 2
}
