{
 "cells": [
  {
   "cell_type": "code",
   "execution_count": null,
   "metadata": {},
   "outputs": [],
   "source": [
    "#B\n",
    "N = int(input())\n",
    "d = [input() for _ in range(N)]\n",
    "d.sort()\n",
    "\n",
    "num = []\n",
    "for i in range(N):\n",
    "    if d[i] not in num:\n",
    "        num.append(d[i])\n",
    "print(len(num))"
   ]
  },
  {
   "cell_type": "code",
   "execution_count": null,
   "metadata": {},
   "outputs": [],
   "source": [
    "# C\n",
    "N,Y = map(int, input().split())\n",
    "\n",
    "res = False\n",
    "for i in range(N+1):\n",
    "    for j in range(N+1):\n",
    "        if i+j > N:\n",
    "            continue\n",
    "        num = N-i-j\n",
    "        if 10000*i + 5000*j + 1000*num == Y:\n",
    "            print(i, j, num)\n",
    "            res = True\n",
    "            break\n",
    "    if res:\n",
    "        break\n",
    "else:\n",
    "    print(-1, -1, -1)"
   ]
  }
 ],
 "metadata": {
  "language_info": {
   "name": "python"
  }
 },
 "nbformat": 4,
 "nbformat_minor": 2
}
