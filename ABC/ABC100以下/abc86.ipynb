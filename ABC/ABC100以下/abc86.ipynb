{
 "cells": [
  {
   "cell_type": "code",
   "execution_count": null,
   "metadata": {},
   "outputs": [],
   "source": [
    "# C\n",
    "N = int(input())\n",
    "# 初期位置,時間を0として考える\n",
    "t = [0] * (N + 1)\n",
    "x = [0] * (N + 1)\n",
    "y = [0] * (N + 1)\n",
    "for i in range(N):\n",
    "    t[i+1], x[i+1], y[i+1] = map(int, input().split())\n",
    "\n",
    "can = True\n",
    "for i in range(N):\n",
    "    dt = t[i+1] - t[i]\n",
    "    dist = abs(x[i+1] - x[i]) + abs(y[i+1] - y[i])\n",
    "    if dt < dist:\n",
    "        can = False\n",
    "    # dist<=dt満たし、dt,dictの偶奇同じなら時刻tに目的座標にいける。\n",
    "    if dt % 2 != dist % 2:\n",
    "        can = False\n",
    "\n",
    "print(\"Yes\" if can else \"No\")"
   ]
  }
 ],
 "metadata": {
  "language_info": {
   "name": "python"
  }
 },
 "nbformat": 4,
 "nbformat_minor": 2
}
