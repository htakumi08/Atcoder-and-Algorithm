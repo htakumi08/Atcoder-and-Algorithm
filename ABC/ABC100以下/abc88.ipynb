{
 "cells": [
  {
   "cell_type": "code",
   "execution_count": null,
   "metadata": {},
   "outputs": [],
   "source": [
    "#B\n",
    "n = int(input())\n",
    "a = list(map(int, input().split()))\n",
    "\n",
    "# リストを大きい順にソート\n",
    "a.sort(reverse=True)\n",
    "\n",
    "Alice = 0\n",
    "Bob = 0\n",
    "for i in range(n):\n",
    "    if i % 2 == 0:\n",
    "        Alice += a[i]\n",
    "    else:\n",
    "        Bob += a[i]\n",
    "print(Alice - Bob)"
   ]
  },
  {
   "cell_type": "code",
   "execution_count": null,
   "metadata": {},
   "outputs": [],
   "source": [
    "#C\n",
    "c = [list(map(int, input().split())) for _ in range(3)]\n",
    "\n",
    "for a1 in range(101):\n",
    "    for a2 in range(101):\n",
    "        for a3 in range(101):\n",
    "            b1 = c[0][0] - a1\n",
    "            b2 = c[0][1] - a1\n",
    "            b3 = c[0][2] - a1\n",
    "\n",
    "            A = [a1,a2,a3]\n",
    "            B = [b1,b2,b3]\n",
    "\n",
    "            ok = True\n",
    "            for i in range(3):\n",
    "                for j in range(3):\n",
    "                    if A[i] + B[j] != c[i][j]:\n",
    "                        ok = False\n",
    "            if ok:\n",
    "                break\n",
    "        if ok:\n",
    "            break\n",
    "    if ok:\n",
    "        break\n",
    "\n",
    "print('Yes' if ok else 'No')\n"
   ]
  }
 ],
 "metadata": {
  "language_info": {
   "name": "python"
  }
 },
 "nbformat": 4,
 "nbformat_minor": 2
}
