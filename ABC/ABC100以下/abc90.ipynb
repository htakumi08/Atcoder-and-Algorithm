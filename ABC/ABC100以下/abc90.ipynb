{
 "cells": [
  {
   "cell_type": "code",
   "execution_count": null,
   "metadata": {},
   "outputs": [],
   "source": [
    "#B\n",
    "a,b = map(int, input().split())\n",
    "count = 0\n",
    "for i in range(a,b+1):\n",
    "    i_str = str(i)\n",
    "    if i_str[0] == i_str[4] and \\\n",
    "        i_str[1] == i_str[3]:\n",
    "        count += 1\n",
    "print(count)"
   ]
  }
 ],
 "metadata": {
  "language_info": {
   "name": "python"
  }
 },
 "nbformat": 4,
 "nbformat_minor": 2
}
