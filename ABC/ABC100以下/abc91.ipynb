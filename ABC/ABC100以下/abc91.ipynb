{
 "cells": [
  {
   "cell_type": "code",
   "execution_count": null,
   "metadata": {},
   "outputs": [],
   "source": [
    "# B\n",
    "# B - Two Colors Card Game  ABC91\n",
    "N = int(input())\n",
    "s = [input() for _ in range(N)]\n",
    "M = int(input())\n",
    "t = [input() for _ in range(M)]\n",
    "\n",
    "ans = [0]\n",
    "for i in s:\n",
    "    ans.append(s.count(i) - t.count(i))\n",
    "print(max(ans))"
   ]
  },
  {
   "cell_type": "code",
   "execution_count": null,
   "metadata": {},
   "outputs": [],
   "source": []
  }
 ],
 "metadata": {
  "language_info": {
   "name": "python"
  }
 },
 "nbformat": 4,
 "nbformat_minor": 2
}
