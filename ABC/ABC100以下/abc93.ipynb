{
 "cells": [
  {
   "cell_type": "code",
   "execution_count": null,
   "metadata": {},
   "outputs": [],
   "source": [
    "#C\n",
    "a,b,c=sorted(map(int,input().split()))\n",
    "\n",
    "if (a+b+c)%2==(c+c+c)%2:\n",
    "  print((3*c - (a+b+c))//2)\n",
    "else:\n",
    "  print((c-a+c-b+3)//2)"
   ]
  }
 ],
 "metadata": {
  "language_info": {
   "name": "python"
  }
 },
 "nbformat": 4,
 "nbformat_minor": 2
}
