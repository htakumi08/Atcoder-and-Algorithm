{
 "cells": [
  {
   "cell_type": "code",
   "execution_count": null,
   "metadata": {},
   "outputs": [],
   "source": [
    "# B\n",
    "N,X = map(int, input().split())\n",
    "M = [int(input()) for _ in range(N)]\n",
    "\n",
    "min_value = min(M)\n",
    "X -= sum(M)\n",
    "count = N + X // min_value\n",
    "print(count)"
   ]
  }
 ],
 "metadata": {
  "language_info": {
   "name": "python"
  }
 },
 "nbformat": 4,
 "nbformat_minor": 2
}
