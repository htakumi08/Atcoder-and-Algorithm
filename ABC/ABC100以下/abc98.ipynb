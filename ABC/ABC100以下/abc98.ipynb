{
 "cells": [
  {
   "cell_type": "code",
   "execution_count": null,
   "metadata": {},
   "outputs": [],
   "source": [
    "#C\n",
    "N = int(input())\n",
    "S = input()\n",
    "\n",
    "w_list = [0]*N\n",
    "e_list = [0]*N\n",
    "# 1回のforで両端からの操作を行う　\n",
    "for i in range(1,N):\n",
    "        if S[i-1] == 'W':\n",
    "            w_list[i] = w_list[i-1] + 1\n",
    "        else:\n",
    "            w_list[i] = w_list[i-1]\n",
    "        if S[N-i] == 'E':\n",
    "            e_list[N-i-1] = e_list[N-i] + 1\n",
    "        else:\n",
    "            e_list[N-i-1] = e_list[N-i]\n",
    "ans = []\n",
    "for i in range(N):\n",
    "    ans.append(w_list[i] + e_list[i])\n",
    "print(min(ans))"
   ]
  }
 ],
 "metadata": {
  "language_info": {
   "name": "python"
  }
 },
 "nbformat": 4,
 "nbformat_minor": 2
}
