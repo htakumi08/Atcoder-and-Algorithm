{
 "cells": [
  {
   "cell_type": "code",
   "execution_count": null,
   "metadata": {},
   "outputs": [],
   "source": [
    "# B \n",
    "N = int(input())\n",
    "\n",
    "result = 'No'\n",
    "for cake in range(26):\n",
    "    for donuts in range(15):\n",
    "        if cake*4 + donuts*7 == N:\n",
    "            result = 'Yes'\n",
    "            break\n",
    "print(result)"
   ]
  }
 ],
 "metadata": {
  "language_info": {
   "name": "python"
  }
 },
 "nbformat": 4,
 "nbformat_minor": 2
}
