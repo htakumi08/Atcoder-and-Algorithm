{
 "cells": [
  {
   "cell_type": "code",
   "execution_count": null,
   "metadata": {},
   "outputs": [],
   "source": [
    "#B\n",
    "N = int(input())\n",
    "\n",
    "res = 0\n",
    "for i in range(1,N+1,2):\n",
    "    count = 0\n",
    "    for j in range(1,i+1,2):\n",
    "        if i % j == 0:\n",
    "            count += 1\n",
    "    if count == 8:\n",
    "        res += 1\n",
    "print(res)\n"
   ]
  }
 ],
 "metadata": {
  "language_info": {
   "name": "python"
  }
 },
 "nbformat": 4,
 "nbformat_minor": 2
}
