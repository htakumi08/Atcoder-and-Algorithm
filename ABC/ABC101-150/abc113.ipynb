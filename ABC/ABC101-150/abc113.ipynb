{
 "cells": [
  {
   "cell_type": "code",
   "execution_count": null,
   "metadata": {},
   "outputs": [],
   "source": [
    "#B\n",
    "N=int(input())\n",
    "T,A = map(int,input().split())\n",
    "H = list(map(int,input().split()))\n",
    "\n",
    "num = float('inf')\n",
    "for i in range(N):\n",
    "    tmp =  abs(A - (T - H[i]*0.006))\n",
    "    if tmp < num:\n",
    "        result = i+1\n",
    "        num = tmp\n",
    "print(result) "
   ]
  },
  {
   "cell_type": "code",
   "execution_count": null,
   "metadata": {},
   "outputs": [],
   "source": [
    "# \n",
    "n = int(input())\n",
    "t,a = map(int,input().split())\n",
    "h = list(map(int, input().split()))\n",
    "\n",
    "# 一連の流れリスト内包表記でもいける\n",
    "ans = []\n",
    "for i in h:\n",
    "    tmp = abs(a - (t-i*0.006))\n",
    "    ans.append(tmp)\n",
    "\n",
    "print(ans.index(min(ans))+1)\n"
   ]
  }
 ],
 "metadata": {
  "language_info": {
   "name": "python"
  }
 },
 "nbformat": 4,
 "nbformat_minor": 2
}
