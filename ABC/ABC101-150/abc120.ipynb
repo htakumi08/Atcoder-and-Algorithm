{
 "cells": [
  {
   "cell_type": "code",
   "execution_count": null,
   "metadata": {},
   "outputs": [],
   "source": [
    "#B\n",
    "A,B,K = map(int, input().split())\n",
    "A_list,B_list,AB_list = [],[],[] \n",
    "\n",
    "for i in range(1,A+1):\n",
    "    if A % i == 0:\n",
    "        A_list.append(i)\n",
    "for i in range(1,B+1):\n",
    "    if B % i == 0:\n",
    "        B_list.append(i)\n",
    "\n",
    "if len(A_list) <= len(B_list):\n",
    "    for a in A_list:\n",
    "        if a in B_list:\n",
    "            AB_list.append(a)\n",
    "else:\n",
    "    for b in B_list:\n",
    "        if b in A_list:\n",
    "            AB_list.append(b)\n",
    "AB_list.sort(reverse=True)\n",
    "print(AB_list[K-1])"
   ]
  }
 ],
 "metadata": {
  "language_info": {
   "name": "python"
  }
 },
 "nbformat": 4,
 "nbformat_minor": 2
}
