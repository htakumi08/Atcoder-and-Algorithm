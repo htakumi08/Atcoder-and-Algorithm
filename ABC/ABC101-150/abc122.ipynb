{
 "cells": [
  {
   "cell_type": "code",
   "execution_count": null,
   "metadata": {},
   "outputs": [],
   "source": [
    "#B\n",
    "S = input()\n",
    "acgt = 'ACGT'\n",
    "\n",
    "res = 0\n",
    "count = 0\n",
    "for i in S:\n",
    "    if i in acgt:\n",
    "        count += 1\n",
    "    else:\n",
    "        res = max(res, count)\n",
    "        count = 0\n",
    "\n",
    "# ループ後も更新\n",
    "res = max(res, count)\n",
    "print(res)\n"
   ]
  }
 ],
 "metadata": {
  "language_info": {
   "name": "python"
  }
 },
 "nbformat": 4,
 "nbformat_minor": 2
}
