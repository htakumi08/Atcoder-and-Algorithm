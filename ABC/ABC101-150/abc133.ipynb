{
 "cells": [
  {
   "cell_type": "code",
   "execution_count": null,
   "metadata": {},
   "outputs": [],
   "source": [
    "#B\n",
    "import math\n",
    "n,d = map(int, input().split())\n",
    "x = []\n",
    "for i in range(n):\n",
    "    tmp = list(map(int, input().split()))\n",
    "    x.append(tmp)\n",
    "\n",
    "count = 0\n",
    "for i in range(n):\n",
    "    for j in range(n):\n",
    "        if i == j or j < i:\n",
    "            continue\n",
    "        dis = 0\n",
    "        for k in range(d):\n",
    "            dis += abs(x[i][k]-x[j][k])**2 \n",
    "        if math.sqrt(dis).is_integer():\n",
    "            count += 1 \n",
    "\n",
    "print(count)"
   ]
  }
 ],
 "metadata": {
  "language_info": {
   "name": "python"
  }
 },
 "nbformat": 4,
 "nbformat_minor": 2
}
