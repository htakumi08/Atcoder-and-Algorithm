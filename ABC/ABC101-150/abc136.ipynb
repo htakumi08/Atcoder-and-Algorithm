{
 "cells": [
  {
   "cell_type": "code",
   "execution_count": null,
   "metadata": {},
   "outputs": [],
   "source": [
    "# B\n",
    "N = int(input())\n",
    "i = 1\n",
    "count = 0\n",
    "while i <= N:\n",
    "    if 1 <= i < 10:\n",
    "        count += 1\n",
    "        i += 1\n",
    "    elif 100 <= i < 1000:\n",
    "        count += 1\n",
    "        i += 1        \n",
    "    elif 10000 <= i < 100000:\n",
    "        count += 1\n",
    "        i += 1\n",
    "    else: \n",
    "        i += 1        \n",
    "print(count)"
   ]
  }
 ],
 "metadata": {
  "language_info": {
   "name": "python"
  }
 },
 "nbformat": 4,
 "nbformat_minor": 2
}
