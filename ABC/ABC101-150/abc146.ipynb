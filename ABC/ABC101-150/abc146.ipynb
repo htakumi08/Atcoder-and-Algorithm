{
 "cells": [
  {
   "cell_type": "code",
   "execution_count": null,
   "metadata": {},
   "outputs": [],
   "source": [
    "#C\n",
    "import itertools\n",
    "import math\n",
    "N = int(input())\n",
    "x,y = [], []\n",
    "for _ in range(N):\n",
    "    x_,y_ = map(int, input().split())\n",
    "    x.append(x_)\n",
    "    y.append(y_)\n",
    "\n",
    "per_list = list(itertools.permutations(range(N)))\n",
    "\n",
    "sum_dis = 0\n",
    "for i in per_list:\n",
    "    for j in range(N-1):\n",
    "        x2 = (x[i[j+1]] - x[i[j]]) ** 2\n",
    "        y2 = (y[i[j+1]] - y[i[j]]) ** 2\n",
    "        sum_dis += math.sqrt(x2+y2)\n",
    "ans = sum_dis / len(per_list)\n",
    "print(ans)"
   ]
  }
 ],
 "metadata": {
  "language_info": {
   "name": "python"
  }
 },
 "nbformat": 4,
 "nbformat_minor": 2
}
