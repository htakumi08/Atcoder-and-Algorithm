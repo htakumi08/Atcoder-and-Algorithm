{
 "cells": [
  {
   "cell_type": "code",
   "execution_count": null,
   "metadata": {},
   "outputs": [],
   "source": [
    "#B\n",
    "N = int(input())\n",
    "S = input()\n",
    "abc = 'ABC'\n",
    "count = 0\n",
    "for i in range(N-2):\n",
    "    if S[i:i+3] == abc:\n",
    "        count += 1\n",
    "\n",
    "print(count)"
   ]
  },
  {
   "cell_type": "code",
   "execution_count": null,
   "metadata": {},
   "outputs": [],
   "source": [
    "#C\n",
    "import itertools\n",
    "N = int(input())\n",
    "P = tuple(map(int, input().split()))\n",
    "Q = tuple(map(int, input().split()))\n",
    "\n",
    "per_list = list(itertools.permutations(range(1, N+1)))\n",
    "\n",
    "# per_listの中身はそれぞれtuple\n",
    "# P,Q tuple型にしておけば==使える\n",
    "for i,tup in enumerate(per_list):\n",
    "    if P == tup:\n",
    "        x = i+1\n",
    "    elif Q == tup:\n",
    "        y = i+1\n",
    "if P == Q:\n",
    "    x,y = 0,0\n",
    "\n",
    "print(abs(x-y))"
   ]
  }
 ],
 "metadata": {
  "language_info": {
   "name": "python"
  }
 },
 "nbformat": 4,
 "nbformat_minor": 2
}
