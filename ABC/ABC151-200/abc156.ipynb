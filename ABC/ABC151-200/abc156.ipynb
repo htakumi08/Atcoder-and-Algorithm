{
 "cells": [
  {
   "cell_type": "code",
   "execution_count": null,
   "metadata": {},
   "outputs": [],
   "source": [
    "#B\n",
    "n,k = map(int, input().split())\n",
    "count = 0\n",
    "while n > 0:\n",
    "    n //= k\n",
    "    count += 1\n",
    "print(count)\n"
   ]
  }
 ],
 "metadata": {
  "language_info": {
   "name": "python"
  }
 },
 "nbformat": 4,
 "nbformat_minor": 2
}
