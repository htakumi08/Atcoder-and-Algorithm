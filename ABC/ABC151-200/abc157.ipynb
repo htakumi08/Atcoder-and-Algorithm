{
 "cells": [
  {
   "cell_type": "code",
   "execution_count": null,
   "metadata": {},
   "outputs": [],
   "source": [
    "#C\n",
    "N,M = map(int, input().split())\n",
    "s,c = [],[]\n",
    "for _ in range(M):\n",
    "    s_,c_ = map(int, input().split())\n",
    "    s.append(s_)\n",
    "    c.append(c_)\n",
    "\n",
    "ans = [0]*N\n",
    "ok = True\n",
    "for i in range(M):\n",
    "    if ans[s[i]-1] != 0 and ans[s[i]-1] != c[i]:\n",
    "        ok = False\n",
    "        break\n",
    "    elif N > 1 and s[i] == 1 and c[i] == 0:\n",
    "        ok = False\n",
    "        break\n",
    "    ans[s[i]-1] = c[i]\n",
    "\n",
    "if N > 1 and ans[0] == 0:\n",
    "    ans[0] = 1\n",
    "\n",
    "if ok:\n",
    "    print(*ans, sep='')\n",
    "else:\n",
    "    print(-1)"
   ]
  }
 ],
 "metadata": {
  "language_info": {
   "name": "python"
  }
 },
 "nbformat": 4,
 "nbformat_minor": 2
}
