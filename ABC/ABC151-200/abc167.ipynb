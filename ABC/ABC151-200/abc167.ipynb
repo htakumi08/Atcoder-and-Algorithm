{
 "cells": [
  {
   "cell_type": "code",
   "execution_count": null,
   "metadata": {},
   "outputs": [],
   "source": [
    "#C\n",
    "N,M,X = map(int,input().split())\n",
    "C,A = [],[]\n",
    "for _ in range(N):\n",
    "    x = list(map(int,input().split()))\n",
    "    C.append(x[0])\n",
    "    A.append(x[1:])\n",
    "\n",
    "price = []\n",
    "res = False\n",
    "for i in range(2**N):\n",
    "    tmp = [0]*M\n",
    "    num = 0\n",
    "    for j in range(N):\n",
    "        if i & (1 << j):\n",
    "            num += C[j] \n",
    "            for k in range(M):\n",
    "                tmp[k] += A[j][k]\n",
    "\n",
    "    if min(tmp) >= X:\n",
    "        price.append(num)\n",
    "        res = True\n",
    "\n",
    "print(min(price) if res else '-1')"
   ]
  }
 ],
 "metadata": {
  "language_info": {
   "name": "python"
  }
 },
 "nbformat": 4,
 "nbformat_minor": 2
}
