{
 "cells": [
  {
   "cell_type": "code",
   "execution_count": null,
   "metadata": {},
   "outputs": [],
   "source": [
    "#B\n",
    "n = int(input())\n",
    "l = list(map(int,input().split()))\n",
    "\n",
    "count = 0\n",
    "for i in range(n):\n",
    "    for j in range(i+1, n):\n",
    "        for k in range(j+1, n):\n",
    "            lengths = [l[i],l[j],l[k]]\n",
    "            max_len = max(lengths)\n",
    "            if l[i] != l[j] and l[j] != l[k] and l[i] != l[k] and\\\n",
    "                max_len < sum(lengths)-max_len:\n",
    "                count += 1\n",
    "print(count)\n"
   ]
  }
 ],
 "metadata": {
  "language_info": {
   "name": "python"
  }
 },
 "nbformat": 4,
 "nbformat_minor": 2
}
