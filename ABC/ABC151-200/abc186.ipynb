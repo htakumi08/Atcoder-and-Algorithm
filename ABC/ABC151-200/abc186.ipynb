{
 "cells": [
  {
   "cell_type": "code",
   "execution_count": null,
   "metadata": {},
   "outputs": [],
   "source": [
    "# C-o\n",
    "N = int(input())\n",
    "\n",
    "cnt = 0\n",
    "for i in range(1,N+1):\n",
    "    if \"7\" in str(i) or \"7\" in str(oct(i)):\n",
    "        cnt += 1\n",
    "\n",
    "print(N-cnt)"
   ]
  }
 ],
 "metadata": {
  "language_info": {
   "name": "python"
  }
 },
 "nbformat": 4,
 "nbformat_minor": 2
}
