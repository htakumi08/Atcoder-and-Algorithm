{
 "cells": [
  {
   "cell_type": "code",
   "execution_count": null,
   "metadata": {},
   "outputs": [],
   "source": [
    "#B\n",
    "N, Q = map(int, input().split())\n",
    "A = list(map(int, input().split()))\n",
    "A.sort()\n",
    "\n",
    "def is_ok(index,key):\n",
    "    return A[index] >= key\n",
    "\n",
    "def binary_search(key):\n",
    "    ng = -1\n",
    "    ok = len(A)\n",
    "     \n",
    "    while abs(ok - ng) > 1:\n",
    "        mid = (ok + ng) // 2\n",
    "        if is_ok(mid, key):\n",
    "            ok = mid\n",
    "        else:\n",
    "            ng = mid\n",
    "    \n",
    "    return ok\n",
    "\n",
    "for _ in range(Q):\n",
    "    x = int(input())\n",
    "    ans = N - binary_search(x)\n",
    "    print(ans)"
   ]
  }
 ],
 "metadata": {
  "language_info": {
   "name": "python"
  }
 },
 "nbformat": 4,
 "nbformat_minor": 2
}
