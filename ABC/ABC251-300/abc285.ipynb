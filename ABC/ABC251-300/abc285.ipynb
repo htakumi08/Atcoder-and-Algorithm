{
 "cells": [
  {
   "cell_type": "code",
   "execution_count": null,
   "metadata": {},
   "outputs": [],
   "source": [
    "#B\n",
    "N = int(input())\n",
    "S = input()\n",
    "\n",
    "ans = 0\n",
    "for k in range(1,N):\n",
    "    cnt = 0\n",
    "    for i in range(N-k):\n",
    "        if S[i] == S[k+i]:\n",
    "            break\n",
    "        cnt += 1\n",
    "    print(cnt)\n"
   ]
  }
 ],
 "metadata": {
  "language_info": {
   "name": "python"
  }
 },
 "nbformat": 4,
 "nbformat_minor": 2
}
