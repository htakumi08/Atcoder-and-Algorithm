{
 "cells": [
  {
   "cell_type": "code",
   "execution_count": null,
   "metadata": {},
   "outputs": [],
   "source": [
    "#B\n",
    "N,M = map(int, input().split())\n",
    "A = list(map(int, input().split()))\n",
    "\n",
    "ans = []\n",
    "num = 1\n",
    "# 連結を探す\n",
    "for i in range(1, N+1):\n",
    "    if i in A:\n",
    "        continue\n",
    "    else:\n",
    "        # 連結ないなら\n",
    "        ans.extend(list(range(i,num-1,-1)))\n",
    "        num = i+1\n",
    "\n",
    "print(*ans)"
   ]
  }
 ],
 "metadata": {
  "language_info": {
   "name": "python"
  }
 },
 "nbformat": 4,
 "nbformat_minor": 2
}
