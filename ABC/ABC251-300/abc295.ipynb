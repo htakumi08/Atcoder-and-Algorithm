{
 "cells": [
  {
   "cell_type": "code",
   "execution_count": null,
   "metadata": {},
   "outputs": [],
   "source": [
    "#A\n",
    "n = int(input())\n",
    "w  = input().split()\n",
    "\n",
    "li = ['and','not','that','the','you']\n",
    "\n",
    "ans = 'No'\n",
    "for i in range(n):\n",
    "    if w[i] in li:\n",
    "        ans = 'Yes'\n",
    "\n",
    "print(ans)"
   ]
  },
  {
   "cell_type": "code",
   "execution_count": null,
   "metadata": {},
   "outputs": [],
   "source": [
    "#B\n",
    "R,C = map(int, input().split())\n",
    "B = [input() for _ in range(R)]\n",
    "result = [[False for _ in range(C)] for _ in range(R)]\n",
    "\n",
    "# 盤面操作\n",
    "for i in range(R):\n",
    "    for j in range(C):\n",
    "        # 数字判定\n",
    "        if B[i][j].isdigit():\n",
    "            num = int(B[i][j])\n",
    "            # 爆弾処理\n",
    "            for y in range(R):\n",
    "                for x in range(C):\n",
    "                    if abs(i-y) + abs(j-x) <= num:\n",
    "                        result[y][x] = True\n",
    "            # 爆弾処理後、数字部分もTrue\n",
    "            result[i][j] = True\n",
    "        # 元々の空きマスもTrue    \n",
    "        elif B[i][j] == '.':\n",
    "            result[i][j] = True\n",
    "\n",
    "for i in range(R):\n",
    "    for j in range(C):\n",
    "        if result[i][j]:\n",
    "            result[i][j] = '.'\n",
    "        else:\n",
    "            result[i][j] = '#'\n",
    "    print(*result[i], sep='')"
   ]
  }
 ],
 "metadata": {
  "language_info": {
   "name": "python"
  }
 },
 "nbformat": 4,
 "nbformat_minor": 2
}
