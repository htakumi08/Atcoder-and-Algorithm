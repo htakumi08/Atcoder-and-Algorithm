{
 "cells": [
  {
   "cell_type": "code",
   "execution_count": null,
   "metadata": {},
   "outputs": [],
   "source": [
    "#A\n",
    "n = int(input())\n",
    "s = input()\n",
    "\n",
    "if 'MM' in s or 'FF' in s:\n",
    "    print('No')\n",
    "else:\n",
    "    print('Yes')"
   ]
  },
  {
   "cell_type": "code",
   "execution_count": null,
   "metadata": {},
   "outputs": [],
   "source": [
    "# B\n",
    "x = 'abcdefgh'\n",
    "y = '12345678'\n",
    "S = []\n",
    "for _ in range(8):\n",
    "    S.append(input())\n",
    "\n",
    "ok = False\n",
    "for i in range(8):\n",
    "    for j in range(8):\n",
    "        if S[i][j] == '*':\n",
    "            print(x[j]+y[7-i])\n",
    "            break\n",
    "    if ok:\n",
    "        break\n"
   ]
  }
 ],
 "metadata": {
  "language_info": {
   "name": "python"
  }
 },
 "nbformat": 4,
 "nbformat_minor": 2
}
