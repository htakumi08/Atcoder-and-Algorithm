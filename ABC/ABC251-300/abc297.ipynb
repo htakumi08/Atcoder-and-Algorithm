{
 "cells": [
  {
   "cell_type": "code",
   "execution_count": null,
   "metadata": {},
   "outputs": [],
   "source": [
    "#A\n",
    "n,d = map(int, input().split())\n",
    "t = [int(i) for i in input().split()]\n",
    "\n",
    "for i in range(n):\n",
    "    if i == n-1:\n",
    "        print(-1)\n",
    "        break\n",
    "    elif (t[i+1] - t[i]) <= d:\n",
    "        print(t[i+1])\n",
    "        break\n",
    "    \n"
   ]
  },
  {
   "cell_type": "code",
   "execution_count": null,
   "metadata": {},
   "outputs": [],
   "source": [
    "#B\n",
    "S = input()\n",
    "\n",
    "B,K_R = [],[]\n",
    "result = True\n",
    "for i in range(len(S)):\n",
    "    if S[i] == 'B':\n",
    "        B.append(i)\n",
    "    if S[i] == 'K' or S[i] == 'R':\n",
    "        K_R.append(i)\n",
    "if sum(B) % 2 == 0:\n",
    "    result = False\n",
    "K_R.sort()\n",
    "if S[K_R[1]] != 'K':\n",
    "    result = False\n",
    "\n",
    "print('Yes' if result else 'No')"
   ]
  }
 ],
 "metadata": {
  "language_info": {
   "name": "python"
  }
 },
 "nbformat": 4,
 "nbformat_minor": 2
}
