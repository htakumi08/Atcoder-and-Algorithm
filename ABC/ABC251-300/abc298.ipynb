{
 "cells": [
  {
   "cell_type": "code",
   "execution_count": null,
   "metadata": {},
   "outputs": [],
   "source": [
    "#A\n",
    "n = int(input())\n",
    "s = input()\n",
    "\n",
    "if 'x' in s:\n",
    "    print('No')\n",
    "elif 'o' in s:\n",
    "    print('Yes')\n",
    "else:\n",
    "    print('No')\n"
   ]
  },
  {
   "cell_type": "code",
   "execution_count": null,
   "metadata": {},
   "outputs": [],
   "source": [
    "#B\n",
    "import copy\n",
    "\n",
    "N = int(input())\n",
    "A = [list(map(int, input().split())) for _ in range(N)]\n",
    "B = [list(map(int, input().split())) for _ in range(N)]\n",
    "\n",
    "def rot(A):\n",
    "    R = copy.deepcopy(A)\n",
    "    for i in range(N):\n",
    "        for j in range(N):\n",
    "            R[i][j] = A[N-1-j][i]\n",
    "    return R\n",
    "    \n",
    "for _ in range(4):\n",
    "    result = True\n",
    "    for i in range(N):\n",
    "        for j in range(N):\n",
    "            if A[i][j] == 1 and B[i][j] == 0:\n",
    "                result = False\n",
    "    if result:\n",
    "        print('Yes')\n",
    "        break\n",
    "    A = rot(A)\n",
    "\n",
    "if result is False:\n",
    "    print('No')n = int(input())\n",
    "s = input()\n",
    "\n",
    "if 'x' in s:\n",
    "    print('No')\n",
    "elif 'o' in s:\n",
    "    print('Yes')\n",
    "else:\n",
    "    print('No')\n"
   ]
  }
 ],
 "metadata": {
  "language_info": {
   "name": "python"
  }
 },
 "nbformat": 4,
 "nbformat_minor": 2
}
