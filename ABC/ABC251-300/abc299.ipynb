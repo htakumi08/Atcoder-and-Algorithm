{
 "cells": [
  {
   "cell_type": "code",
   "execution_count": null,
   "metadata": {},
   "outputs": [],
   "source": [
    "#A\n",
    "n = int(input())\n",
    "s = input()\n",
    "\n",
    "tmp = []\n",
    "for i in range(n):\n",
    "    if s[i] == '|':\n",
    "        tmp.append(i+1)\n",
    "\n",
    "\n",
    "if '*' in s[tmp[0]:tmp[1]]:\n",
    "    print('in')\n",
    "else:\n",
    "    print('out')"
   ]
  },
  {
   "cell_type": "code",
   "execution_count": null,
   "metadata": {},
   "outputs": [],
   "source": [
    "#B\n",
    "N,T = map(int, input().split())\n",
    "C = list(map(int, input().split()))\n",
    "R = list(map(int, input().split()))\n",
    "\n",
    "ans = []\n",
    "if T not in C:\n",
    "    T = C[0]\n",
    "for i in range(N):\n",
    "    if T == C[i]:\n",
    "        ans.append(R[i])\n",
    "print(R.index(max(ans)) + 1)"
   ]
  }
 ],
 "metadata": {
  "language_info": {
   "name": "python"
  }
 },
 "nbformat": 4,
 "nbformat_minor": 2
}
