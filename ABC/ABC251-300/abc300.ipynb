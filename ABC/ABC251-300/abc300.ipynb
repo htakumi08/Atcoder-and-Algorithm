{
 "cells": [
  {
   "cell_type": "code",
   "execution_count": null,
   "metadata": {},
   "outputs": [],
   "source": [
    "#A\n",
    "n,a,b = map(int, input().split())\n",
    "c = list(int(i) for i in input().split())\n",
    "\n",
    "for i in range(n):\n",
    "    if a+b == c[i]:\n",
    "        print(i + 1)\n",
    "        "
   ]
  },
  {
   "cell_type": "code",
   "execution_count": null,
   "metadata": {},
   "outputs": [],
   "source": [
    "#B\n",
    "H,W = map(int, input().split())\n",
    "A = [input() for _ in range(H)]\n",
    "B = [input() for _ in range(H)]\n",
    "\n",
    "found = False\n",
    "for s in range(H):\n",
    "    for t in range(W):\n",
    "        ok = True\n",
    "        for i in range(H):\n",
    "            for j in range(W):\n",
    "                if A[(i-s+H) % H][(j-t+W) % W] != B[i][j]:\n",
    "                    ok = False\n",
    "                    break\n",
    "            if not ok:\n",
    "                break\n",
    "        if ok:\n",
    "            found = True\n",
    "            break\n",
    "    if found:\n",
    "        break\n",
    "\n",
    "print('Yes' if found else 'No')"
   ]
  }
 ],
 "metadata": {
  "language_info": {
   "name": "python"
  }
 },
 "nbformat": 4,
 "nbformat_minor": 2
}
