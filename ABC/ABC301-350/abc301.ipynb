{
 "cells": [
  {
   "cell_type": "code",
   "execution_count": null,
   "metadata": {},
   "outputs": [],
   "source": [
    "#A\n",
    "n = int(input())\n",
    "s = input()\n",
    "\n",
    "a = s.count('A')\n",
    "t = s.count('T')\n",
    "\n",
    "if a < t :\n",
    "    print('T')\n",
    "elif a == t and s[-1] != 'T':\n",
    "    print('T')\n",
    "else:\n",
    "    print('A')"
   ]
  },
  {
   "cell_type": "code",
   "execution_count": null,
   "metadata": {},
   "outputs": [],
   "source": [
    "#B\n",
    "n = int(input())\n",
    "A = [int(i) for i in input().split()]\n",
    "\n",
    "for i in range(n-1):\n",
    "\tprint(A[i], end=' ')\n",
    "\tif A[i] < A[i+1]:\n",
    "\t\tfor j in range(A[i]+1, A[i+1]):\n",
    "\t\t\tprint(j, end=' ')\n",
    "\telse:\n",
    "\t\tfor j in range(A[i]-1, A[i+1], -1):\n",
    "\t\t\tprint(j, end=' ')\n",
    "print(A[i+1])\n"
   ]
  },
  {
   "cell_type": "code",
   "execution_count": null,
   "metadata": {},
   "outputs": [],
   "source": []
  }
 ],
 "metadata": {
  "language_info": {
   "name": "python"
  }
 },
 "nbformat": 4,
 "nbformat_minor": 2
}
