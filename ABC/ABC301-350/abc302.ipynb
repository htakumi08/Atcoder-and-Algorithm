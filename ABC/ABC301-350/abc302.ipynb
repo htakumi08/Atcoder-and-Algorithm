{
 "cells": [
  {
   "cell_type": "code",
   "execution_count": null,
   "metadata": {},
   "outputs": [],
   "source": [
    "#A\n",
    "a,b = map(int, input().split())\n",
    "\n",
    "if a % b ==0:\n",
    "    print(a//b)\n",
    "else:\n",
    "    print(a//b + 1)"
   ]
  },
  {
   "cell_type": "code",
   "execution_count": null,
   "metadata": {},
   "outputs": [],
   "source": [
    "#B\n",
    "h,w = map(int, input().split())\n",
    "s = [input() for i in range(h)]\n",
    "\n",
    "# 差分の配列\n",
    "dx = [0, 1, 1, 1, 0, -1, -1, -1]\n",
    "dy = [1, 1, 0, -1, -1, -1, 0, 1]\n",
    "\n",
    "for i in range(h):\n",
    "    for j in range(w):\n",
    "        for k in range(8):\n",
    "            if dx[k] * 4 + j < 0 or w <= dx[k] * 4 + j:\n",
    "                continue\n",
    "            if dy[k] * 4 + i < 0 or h <= dy[k] * 4 + i:\n",
    "                continue\n",
    "            tmp = ''\n",
    "            for m in range(5):\n",
    "                tmp += s[dy[k] * m + i][dx[k] * m + j]\n",
    "            if tmp == 'snuke':\n",
    "                for m in range(5):\n",
    "                    print(dy[k] * m + i + 1, dx[k] * m + j + 1)"
   ]
  }
 ],
 "metadata": {
  "language_info": {
   "name": "python"
  }
 },
 "nbformat": 4,
 "nbformat_minor": 2
}
