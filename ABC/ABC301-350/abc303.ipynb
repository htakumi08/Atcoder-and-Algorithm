{
 "cells": [
  {
   "cell_type": "code",
   "execution_count": null,
   "metadata": {},
   "outputs": [],
   "source": [
    "#A\n",
    "n = int(input())\n",
    "s = input().replace('1','l').replace('0','o')\n",
    "t = input().replace('1','l').replace('0','o')\n",
    "\n",
    "if s == t:\n",
    "    print('Yes')\n",
    "else:\n",
    "    print('No')\n"
   ]
  },
  {
   "cell_type": "code",
   "execution_count": null,
   "metadata": {},
   "outputs": [],
   "source": [
    "#B\n",
    "n,m = map(int, input().split())\n",
    "a = [[0 for i in range(n)] for j in range(m)]\n",
    "for i in range(m):\n",
    "    a[i] = list(map(int, input().split()))\n",
    "\n",
    "p = set()\n",
    "for i in range(m):\n",
    "    for j in range(n-1):\n",
    "        if a[i][j] <= a[i][j+1]:\n",
    "            p.add((a[i][j], a[i][j+1]))\n",
    "        else:\n",
    "            p.add((a[i][j+1], a[i][j]))\n",
    "\n",
    "print((n * (n-1)) // 2 - len(p))"
   ]
  }
 ],
 "metadata": {
  "language_info": {
   "name": "python"
  }
 },
 "nbformat": 4,
 "nbformat_minor": 2
}
