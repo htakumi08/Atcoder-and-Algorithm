{
 "cells": [
  {
   "cell_type": "code",
   "execution_count": null,
   "metadata": {},
   "outputs": [],
   "source": [
    "#A\n",
    "n = int(input())\n",
    "name = []\n",
    "age = []\n",
    "\n",
    "for i in range(n):\n",
    "    a, b = input().split()\n",
    "    name.append(a)\n",
    "    age.append(int(b))\n",
    "\n",
    "ind = age.index(min(age))\n",
    "for i in range(n):\n",
    "    tmp = (ind + i) % n\n",
    "    print(name[tmp])"
   ]
  },
  {
   "cell_type": "code",
   "execution_count": null,
   "metadata": {},
   "outputs": [],
   "source": [
    "#B\n",
    "# きれいじゃないな\n",
    "n = int(input())\n",
    "if 0 <= n <= 999:\n",
    "    print(n)\n",
    "elif 1000 <= n <= 9999:\n",
    "    print(int(str(n//10) + '0'))\n",
    "elif 10000 <= n <= 99999:\n",
    "    print(int(str(n//100) + '00'))\n",
    "elif 100000 <= n <= 999999:\n",
    "    print(int(str(n//1000) + '000'))\n",
    "elif 1000000 <= n <= 9999999:\n",
    "    print(int(str(n//10000) + '0000'))\n",
    "elif 10000000 <= n <= 99999999:\n",
    "    print(int(str(n//100000) + '00000'))\n",
    "elif 100000000 <= n <= 999999999:\n",
    "    print(int(str(n//1000000) + '000000'))"
   ]
  }
 ],
 "metadata": {
  "language_info": {
   "name": "python"
  }
 },
 "nbformat": 4,
 "nbformat_minor": 2
}
