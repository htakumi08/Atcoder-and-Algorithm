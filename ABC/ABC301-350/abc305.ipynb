{
 "cells": [
  {
   "cell_type": "code",
   "execution_count": null,
   "metadata": {},
   "outputs": [],
   "source": [
    "#A\n",
    "n = int(input())\n",
    "\n",
    "if 0 <= n and n <= 100:\n",
    "    if n % 5 == 0 or n % 5 == 1 or n % 5 == 2:\n",
    "        print((n // 5) * 5)\n",
    "    else:\n",
    "        print((n // 5 + 1) * 5)\n"
   ]
  },
  {
   "cell_type": "code",
   "execution_count": null,
   "metadata": {},
   "outputs": [],
   "source": [
    "#Bp,q = sorted(map(str, input().split()))\n",
    "s = 'ABCDEFG'\n",
    "distance = [3,1,4,1,5,9]\n",
    "\n",
    "result = sum(distance[s.index(p):s.index(q)])\n",
    "print(result)"
   ]
  }
 ],
 "metadata": {
  "language_info": {
   "name": "python"
  }
 },
 "nbformat": 4,
 "nbformat_minor": 2
}
