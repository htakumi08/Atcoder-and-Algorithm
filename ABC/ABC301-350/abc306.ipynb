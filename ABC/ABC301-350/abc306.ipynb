{
 "cells": [
  {
   "cell_type": "code",
   "execution_count": null,
   "metadata": {},
   "outputs": [],
   "source": [
    "#A\n",
    "n = int(input())\n",
    "s = input()\n",
    " \n",
    "li = [s[i]+s[i] for i in range(n)]\n",
    "print(''.join(li))\n",
    "\n"
   ]
  },
  {
   "cell_type": "code",
   "execution_count": null,
   "metadata": {},
   "outputs": [],
   "source": [
    "#B\n",
    "A = list(map(int, input().split()))\n",
    "\n",
    "score = 0\n",
    "for i in range(64):\n",
    "    score += A[i] * 2**i\n",
    "    \n",
    "print(score)"
   ]
  }
 ],
 "metadata": {
  "language_info": {
   "name": "python"
  }
 },
 "nbformat": 4,
 "nbformat_minor": 2
}
