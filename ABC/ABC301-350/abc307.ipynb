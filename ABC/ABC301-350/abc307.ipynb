{
 "cells": [
  {
   "cell_type": "code",
   "execution_count": null,
   "metadata": {},
   "outputs": [],
   "source": [
    "# A\n",
    "n = int(input())\n",
    "S = list(map(int, input().split()))\n",
    "\n",
    "ans = [sum(S[i*7: i*7 + 7: 1]) for i in range(n)]\n",
    "print(*ans)"
   ]
  },
  {
   "cell_type": "code",
   "execution_count": null,
   "metadata": {},
   "outputs": [],
   "source": [
    "#B\n",
    "n = int(input())\n",
    "s = [input() for i in range(n)]\n",
    "\n",
    "# 回文判定関数　s:回文判定の文字列\n",
    "def is_ok(s):\n",
    "    size = len(s)\n",
    "    result = True\n",
    "    for i in range(size // 2):\n",
    "        if s[i] != s[-(i+1)]:\n",
    "            result = False\n",
    "        \n",
    "    return result\n",
    "\n",
    "result = False\n",
    "for i in range(n):\n",
    "    for j in range(n):\n",
    "        if i == j:\n",
    "            continue\n",
    "        if is_ok(s[i]+s[j]):\n",
    "            result = True\n",
    "\n",
    "print('Yes' if result else 'No')"
   ]
  }
 ],
 "metadata": {
  "language_info": {
   "name": "python"
  }
 },
 "nbformat": 4,
 "nbformat_minor": 2
}
