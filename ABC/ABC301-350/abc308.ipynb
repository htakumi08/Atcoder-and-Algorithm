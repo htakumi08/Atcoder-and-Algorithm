{
 "cells": [
  {
   "cell_type": "code",
   "execution_count": null,
   "metadata": {},
   "outputs": [],
   "source": [
    "#A\n",
    "s = list(map(int, input().split()))\n",
    "\n",
    "s_1 = sorted(s)\n",
    "\n",
    "if s == s_1 and 100 <= min(s) and max(s) <= 675 and sum(s) % 25 == 0:\n",
    "  print('Yes')\n",
    "else:\n",
    "  print('No')\n",
    "  \n"
   ]
  },
  {
   "cell_type": "code",
   "execution_count": null,
   "metadata": {},
   "outputs": [],
   "source": [
    "#B\n",
    "n,m = map(int, input().split())\n",
    "c = input().split()\n",
    "d = input().split()\n",
    "p = [int(i) for i in input().split()]\n",
    "\n",
    "ans = 0\n",
    "for i in range(n):\n",
    "    for j in range(m):\n",
    "        if c[i] == d[j]:\n",
    "            ans += p[j+1]\n",
    "    if c[i] not in d:\n",
    "        ans += p[0]\n",
    "\n",
    "print(ans)"
   ]
  }
 ],
 "metadata": {
  "language_info": {
   "name": "python"
  }
 },
 "nbformat": 4,
 "nbformat_minor": 2
}
