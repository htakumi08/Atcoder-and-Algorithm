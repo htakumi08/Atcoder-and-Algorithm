{
 "cells": [
  {
   "cell_type": "code",
   "execution_count": null,
   "metadata": {},
   "outputs": [],
   "source": [
    "#A\n",
    "a,b = map(int, input().split())\n",
    "\n",
    "if a % 3 == 0:\n",
    "    print('No')\n",
    "else:\n",
    "    if b - a == 1:\n",
    "        print('Yes')\n",
    "    else:\n",
    "        print('No')"
   ]
  },
  {
   "cell_type": "code",
   "execution_count": null,
   "metadata": {},
   "outputs": [],
   "source": [
    "#B\n",
    "import copy\n",
    "n = int(input())\n",
    "A = [list(input()) for _ in range(n)]\n",
    "B = copy.deepcopy(A)\n",
    "\n",
    "\n",
    "for i in range(n-1):\n",
    "    B[0][i+1] = A[0][i]\n",
    "    B[i+1][n-1] = A[i][n-1]\n",
    "    B[n-1][i] = A[n-1][i+1]\n",
    "    B[i][0] = A[i+1][0]\n",
    "\n",
    "for i in B:\n",
    "    print(''.join(i))"
   ]
  }
 ],
 "metadata": {
  "language_info": {
   "name": "python"
  }
 },
 "nbformat": 4,
 "nbformat_minor": 2
}
