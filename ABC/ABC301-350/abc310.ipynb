{
 "cells": [
  {
   "cell_type": "code",
   "execution_count": null,
   "metadata": {},
   "outputs": [],
   "source": [
    "#A\n",
    "n, p, q = map(int, input().split())\n",
    "D = [int(i) for i in input().split()]\n",
    "\n",
    "if p < (q + min(D)):\n",
    "    print(p)\n",
    "else:\n",
    "    print(q + min(D))"
   ]
  },
  {
   "cell_type": "code",
   "execution_count": null,
   "metadata": {},
   "outputs": [],
   "source": [
    "#B\n",
    "N,M = map(int, input().split())\n",
    "P,C,F = [],[],[]\n",
    "for _ in range(N):\n",
    "    k = list(map(int, input().split()))\n",
    "    P.append(k[0])\n",
    "    C.append(k[1])\n",
    "    F.append(k[2:])\n",
    "\n",
    "result  = False\n",
    "for i in range(N):\n",
    "    for j in range(N):\n",
    "        if i == j or P[i] < P[j]:\n",
    "            continue\n",
    "        can = True\n",
    "        for k in F[i]:\n",
    "            if k not in F[j]:\n",
    "                can = False\n",
    "        if can:\n",
    "            if P[i] > P[j] or len(F[i]) < len(F[j]):\n",
    "                result = True\n",
    "print('Yes' if result else 'No')"
   ]
  }
 ],
 "metadata": {
  "language_info": {
   "name": "python"
  }
 },
 "nbformat": 4,
 "nbformat_minor": 2
}
