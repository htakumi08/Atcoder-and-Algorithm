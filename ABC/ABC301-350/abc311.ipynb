{
 "cells": [
  {
   "cell_type": "code",
   "execution_count": null,
   "metadata": {},
   "outputs": [],
   "source": [
    "#A\n",
    "n = int(input())\n",
    "s = input()\n",
    "\n",
    "tmp = set()\n",
    "for i in range(n):\n",
    "    tmp.add(s[i])\n",
    "    if len(tmp) == 3:\n",
    "        print(i + 1)\n",
    "        break"
   ]
  },
  {
   "cell_type": "code",
   "execution_count": null,
   "metadata": {},
   "outputs": [],
   "source": [
    "# B\n",
    "N,D = map(int, input().split())\n",
    "S = [input() for _ in range(N)]\n",
    "\n",
    "# 全員が暇な日を計測する\n",
    "total = ''\n",
    "count = 0\n",
    "res = 0\n",
    "for i in range(D):\n",
    "    this_time = True\n",
    "    for j in range(N):\n",
    "        if S[j][i] != 'o':\n",
    "            this_time = False\n",
    "            continue\n",
    "    \n",
    "    # 'o'の日連続して続く回数をcount\n",
    "    if this_time:\n",
    "        total += 'o'\n",
    "        count += 1\n",
    "    else:\n",
    "        total += 'x'\n",
    "        count = 0\n",
    "    res = max(res, count)\n",
    "\n",
    "print(res)"
   ]
  }
 ],
 "metadata": {
  "language_info": {
   "name": "python"
  }
 },
 "nbformat": 4,
 "nbformat_minor": 2
}
