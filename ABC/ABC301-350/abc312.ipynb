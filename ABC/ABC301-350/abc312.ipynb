{
 "cells": [
  {
   "cell_type": "code",
   "execution_count": null,
   "metadata": {},
   "outputs": [],
   "source": [
    "#A\n",
    "s = input()\n",
    "\n",
    "li = ['ACE', 'BDF', 'CEG','DFA', 'EGB', 'FAC', 'GBD']\n",
    "\n",
    "if s in li:\n",
    "    print('Yes')\n",
    "else:\n",
    "    print('No')"
   ]
  },
  {
   "cell_type": "code",
   "execution_count": null,
   "metadata": {},
   "outputs": [],
   "source": [
    "#B\n",
    "n,m = [int(i) for i in input().split()]\n",
    "s = []\n",
    "\n",
    "for i in range(n):\n",
    "    s.append(input())\n",
    "\n",
    "for i in range(n-8):\n",
    "    for j in range(m-8):\n",
    "        if s[i+0][j:j+4] == '###.' and \\\n",
    "           s[i+1][j:j+4] == '###.' and \\\n",
    "           s[i+2][j:j+4] == '###.' and \\\n",
    "           s[i+3][j:j+4] == '....' and \\\n",
    "           s[i+5][j+5:j+9] == '....' and \\\n",
    "           s[i+6][j+5:j+9] == '.###' and \\\n",
    "           s[i+7][j+5:j+9] == '.###' and \\\n",
    "           s[i+8][j+5:j+9] == '.###':\n",
    "                print(i+1,j+1)"
   ]
  },
  {
   "cell_type": "code",
   "execution_count": null,
   "metadata": {},
   "outputs": [],
   "source": [
    "#B \n",
    "N,M = map(int, input().split())\n",
    "S = [input() for _ in range(N)]\n",
    "Tak_code = [\n",
    "    \"###.?????\",\n",
    "    \"###.?????\",\n",
    "    \"###.?????\",\n",
    "    \"....?????\",\n",
    "    \"?????????\",\n",
    "    \"?????....\",\n",
    "    \"?????.###\",\n",
    "    \"?????.###\",\n",
    "    \"?????.###\"\n",
    "    ]\n",
    "\n",
    "\n",
    "for y in range(N-8):\n",
    "    for x in range(M-8):\n",
    "        result = True\n",
    "        for k1 in range(9):\n",
    "            for k2 in range(9):\n",
    "                if Tak_code[k1][k2] != '?' and\\\n",
    "                    Tak_code[k1][k2] != S[y+k1][x+k2]:\n",
    "                    result = False\n",
    "\n",
    "        if result:\n",
    "            print(y+1,x+1)"
   ]
  }
 ],
 "metadata": {
  "language_info": {
   "name": "python"
  }
 },
 "nbformat": 4,
 "nbformat_minor": 2
}
