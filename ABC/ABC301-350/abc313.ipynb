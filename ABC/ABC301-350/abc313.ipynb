{
 "cells": [
  {
   "cell_type": "code",
   "execution_count": null,
   "metadata": {},
   "outputs": [],
   "source": [
    "#A\n",
    "n = int(input())\n",
    "p = list(map(int, input().split()))\n",
    "\n",
    "tmp = 0\n",
    "for i in range(1, n):\n",
    "    tmp = max(tmp, p[i])\n",
    "\n",
    "if tmp < p[0]:\n",
    "    print(0)\n",
    "else:\n",
    "    print(tmp-p[0] + 1)"
   ]
  },
  {
   "cell_type": "code",
   "execution_count": null,
   "metadata": {},
   "outputs": [],
   "source": [
    "#B\n",
    "N,M = map(int, input().split())\n",
    "A = []\n",
    "B = []\n",
    "for _ in range(M):\n",
    "    A_,B_ = map(int, input().split())\n",
    "    A.append(A_)\n",
    "    B.append(B_)\n",
    "\n",
    "res = [0]*N\n",
    "for i in range(M):\n",
    "    res[B[i]-1] = 1\n",
    "\n",
    "if res.count(0) == 1:\n",
    "    print(res.index(0) + 1)\n",
    "else:\n",
    "    print(-1)"
   ]
  }
 ],
 "metadata": {
  "language_info": {
   "name": "python"
  }
 },
 "nbformat": 4,
 "nbformat_minor": 2
}
