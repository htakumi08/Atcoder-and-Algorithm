{
 "cells": [
  {
   "cell_type": "code",
   "execution_count": null,
   "metadata": {},
   "outputs": [],
   "source": [
    "#B\n",
    "N = int(input())\n",
    "C, A = [], []\n",
    "\n",
    "for _ in range(N):\n",
    "    C_ = int(input())\n",
    "    A_ = list(map(int, input().split()))\n",
    "    C.append(C_)\n",
    "    A.append(A_)\n",
    "\n",
    "X = int(input())\n",
    "\n",
    "# Xを持つ人のうち、Cの最小値を取得\n",
    "res = max(C)\n",
    "ans = []\n",
    "\n",
    "for i in range(N):\n",
    "    if X in A[i]:\n",
    "        if C[i] < res:\n",
    "            res = C[i]\n",
    "            # リストリセットし新しい最小のC[i]持つ人の番号保存\n",
    "            ans = [i+1]\n",
    "        elif C[i] == res:\n",
    "            ans.append(i+1)\n",
    "\n",
    "print(len(ans))\n",
    "print(*ans)"
   ]
  }
 ],
 "metadata": {
  "language_info": {
   "name": "python"
  }
 },
 "nbformat": 4,
 "nbformat_minor": 2
}
