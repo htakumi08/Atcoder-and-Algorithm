{
 "cells": [
  {
   "cell_type": "code",
   "execution_count": null,
   "metadata": {},
   "outputs": [],
   "source": [
    "#B-o\n",
    "N = int(input())\n",
    "C, A = [], []\n",
    "\n",
    "for _ in range(N):\n",
    "    C_ = int(input())\n",
    "    A_ = list(map(int, input().split()))\n",
    "    C.append(C_)\n",
    "    A.append(A_)\n",
    "\n",
    "X = int(input())\n",
    "\n",
    "# Xを持つ人のうち、Cの最小値を取得\n",
    "res = max(C)\n",
    "ans = []\n",
    "\n",
    "for i in range(N):\n",
    "    if X in A[i]:\n",
    "        if C[i] < res:\n",
    "            res = C[i]\n",
    "            # リストリセットし新しい最小のC[i]持つ人の番号保存\n",
    "            ans = [i+1]\n",
    "        elif C[i] == res:\n",
    "            ans.append(i+1)\n",
    "\n",
    "print(len(ans))\n",
    "print(*ans)"
   ]
  },
  {
   "cell_type": "code",
   "execution_count": null,
   "metadata": {},
   "outputs": [],
   "source": [
    "N = int(input())\n",
    "C = []\n",
    "A = []\n",
    "for i in range(N):\n",
    "    C.append(int(input()))\n",
    "    A.append(list(map(int,input().split())))\n",
    "X = int(input())\n",
    "\n",
    "num = 37\n",
    "ans = []\n",
    "for i in range(N):\n",
    "    if X in A[i]:\n",
    "        if C[i] < num:\n",
    "            num = C[i]\n",
    "            ans.clear()\n",
    "            ans.append(i+1)\n",
    "        elif C[i] == num:\n",
    "            ans.append(i+1)\n",
    "\n",
    "if len(ans) == 0:\n",
    "    print(0)\n",
    "else:\n",
    "    print(len(ans))\n",
    "    print(*ans)"
   ]
  }
 ],
 "metadata": {
  "language_info": {
   "name": "python"
  }
 },
 "nbformat": 4,
 "nbformat_minor": 2
}
