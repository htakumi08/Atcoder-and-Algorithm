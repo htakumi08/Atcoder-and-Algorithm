{
 "cells": [
  {
   "cell_type": "code",
   "execution_count": null,
   "metadata": {},
   "outputs": [],
   "source": [
    "# B-o\n",
    "M = int(input())\n",
    "D = list(map(int, input().split()))\n",
    "\n",
    "ans = (sum(D)+1) // 2\n",
    "i = 0\n",
    "while ans - D[i] > 0:\n",
    "    ans -= D[i]\n",
    "    i += 1\n",
    "    \n",
    "print(i+1, ans)\n"
   ]
  },
  {
   "cell_type": "code",
   "execution_count": null,
   "metadata": {},
   "outputs": [],
   "source": [
    "# C-o\n",
    "# 計算量を考えて条件満たす最大値を先に決めてから、N通りの探索を行い条件満たす値を求める問題\n",
    "N = int(input())\n",
    "F,S = [0]*N,[0]*N\n",
    "for i in range(N):\n",
    "    F[i],S[i] = map(int,input().split())\n",
    "\n",
    "s_max = max(S)\n",
    "s_max_idx = S.index(s_max)\n",
    "f_max = F[s_max_idx]\n",
    "# print(s_max,S.index(s_max),f_max)\n",
    "ans = 0\n",
    "for i in range(N):\n",
    "    if i == s_max_idx:\n",
    "        continue\n",
    "    if F[i] == f_max:\n",
    "        tmp = S[i]//2\n",
    "        # print(i,tmp)\n",
    "        ans = max(ans, s_max+tmp)\n",
    "    else:\n",
    "        ans = max(ans, s_max+S[i])\n",
    "\n",
    "print(ans)"
   ]
  }
 ],
 "metadata": {
  "language_info": {
   "name": "python"
  }
 },
 "nbformat": 4,
 "nbformat_minor": 2
}
