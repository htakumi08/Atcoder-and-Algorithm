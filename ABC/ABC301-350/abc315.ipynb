{
 "cells": [
  {
   "cell_type": "code",
   "execution_count": null,
   "metadata": {},
   "outputs": [],
   "source": [
    "# B\n",
    "M = int(input())\n",
    "D = list(map(int, input().split()))\n",
    "\n",
    "ans = (sum(D)+1) // 2\n",
    "i = 0\n",
    "while ans - D[i] > 0:\n",
    "    ans -= D[i]\n",
    "    i += 1\n",
    "    \n",
    "print(i+1, ans)\n"
   ]
  }
 ],
 "metadata": {
  "language_info": {
   "name": "python"
  }
 },
 "nbformat": 4,
 "nbformat_minor": 2
}
