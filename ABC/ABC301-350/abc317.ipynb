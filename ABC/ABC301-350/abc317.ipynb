{
 "cells": [
  {
   "cell_type": "code",
   "execution_count": null,
   "metadata": {},
   "outputs": [],
   "source": [
    "#B\n",
    "N = int(input())\n",
    "A = list(map(int, input().split()))\n",
    "A.sort()\n",
    "\n",
    "# i,i+1の差が1でないのを探す\n",
    "for i in range(N-1):\n",
    "    if A[i+1]-A[i] != 1:\n",
    "        print(A[i]+1)\n"
   ]
  }
 ],
 "metadata": {
  "language_info": {
   "name": "python"
  }
 },
 "nbformat": 4,
 "nbformat_minor": 2
}
