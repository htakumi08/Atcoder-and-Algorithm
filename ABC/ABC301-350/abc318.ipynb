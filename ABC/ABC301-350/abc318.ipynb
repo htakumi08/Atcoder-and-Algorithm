{
 "cells": [
  {
   "cell_type": "code",
   "execution_count": null,
   "metadata": {},
   "outputs": [],
   "source": [
    "#B-x\n",
    "N = int(input())\n",
    "A,B,C,D = [],[],[],[]\n",
    "for _ in range(N):\n",
    "    A_,B_,C_,D_ = map(int, input().split())\n",
    "    A.append(A_)\n",
    "    B.append(B_)\n",
    "    C.append(C_)\n",
    "    D.append(D_)\n",
    "\n",
    "# 座標平面Falseで用意 → 条件満たすときTrueに変更\n",
    "res = [[False for _ in range(max(D))] for _ in range(max(B))]\n",
    "\n",
    "for i in range(N):\n",
    "    for y in range(A[i],B[i]):\n",
    "        for x in range(C[i],D[i]):\n",
    "            res[y][x] = True\n",
    "\n",
    "# 評価値True:1 False:0\n",
    "cnt = sum(sum(i) for i in res)\n",
    "print(cnt)"
   ]
  },
  {
   "cell_type": "code",
   "execution_count": null,
   "metadata": {},
   "outputs": [],
   "source": [
    "# 別解\n",
    "N = int(input())\n",
    "S = [list(map(int,input().split())) for _ in range(N)]\n",
    "base = [[False]*101 for _ in range(101)]\n",
    "\n",
    "for i in range(N):\n",
    "    for y in range(S[i][0],S[i][1]):\n",
    "        for x in range(S[i][2],S[i][3]):\n",
    "            base[y][x] = True\n",
    "\n",
    "print(sum(sum(base[i]) for i in range(101)))"
   ]
  }
 ],
 "metadata": {
  "language_info": {
   "name": "python"
  }
 },
 "nbformat": 4,
 "nbformat_minor": 2
}
