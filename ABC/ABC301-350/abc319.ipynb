{
 "cells": [
  {
   "cell_type": "code",
   "execution_count": null,
   "metadata": {},
   "outputs": [],
   "source": [
    "#B-o\n",
    "N = int(input())\n",
    "S = ''\n",
    "\n",
    "for i in range(N+1):\n",
    "    ans = 10\n",
    "    if i == 0:\n",
    "        S += '1'\n",
    "        continue\n",
    "    for j in range(1,10):\n",
    "        tmp = N//j\n",
    "        if N % j == 0 and i % tmp == 0:\n",
    "            ans = min(ans, j)\n",
    "    if ans == 10:\n",
    "        S += '-'\n",
    "    else:\n",
    "        S += str(ans)\n",
    "\n",
    "print(S)"
   ]
  },
  {
   "cell_type": "code",
   "execution_count": null,
   "metadata": {},
   "outputs": [],
   "source": [
    "# 別解\n",
    "N = int(input())\n",
    "n_divisor = []\n",
    "for i in range(1,10):\n",
    "    if N % i == 0:\n",
    "        n_divisor.append(i)\n",
    "ans = []\n",
    "for i in range(N+1):\n",
    "    ok = False\n",
    "    for j in n_divisor:\n",
    "        if i == 0:\n",
    "            ok = True\n",
    "            ans.append(str(min(n_divisor)))\n",
    "            break\n",
    "        if i % (N//j) == 0:\n",
    "            ok = True\n",
    "            ans.append(str(j))\n",
    "            break\n",
    "    if not ok:\n",
    "        ans.append(\"-\")\n",
    "\n",
    "print(*ans,sep=\"\")"
   ]
  }
 ],
 "metadata": {
  "language_info": {
   "name": "python"
  }
 },
 "nbformat": 4,
 "nbformat_minor": 2
}
