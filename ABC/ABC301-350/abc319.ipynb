{
 "cells": [
  {
   "cell_type": "code",
   "execution_count": null,
   "metadata": {},
   "outputs": [],
   "source": [
    "#B\n",
    "N = int(input())\n",
    "S = ''\n",
    "\n",
    "for i in range(N+1):\n",
    "    ans = 10\n",
    "    if i == 0:\n",
    "        S += '1'\n",
    "        continue\n",
    "    for j in range(1,10):\n",
    "        tmp = N//j\n",
    "        if N % j == 0 and i % tmp == 0:\n",
    "            ans = min(ans, j)\n",
    "    if ans == 10:\n",
    "        S += '-'\n",
    "    else:\n",
    "        S += str(ans)\n",
    "\n",
    "print(S)"
   ]
  }
 ],
 "metadata": {
  "language_info": {
   "name": "python"
  }
 },
 "nbformat": 4,
 "nbformat_minor": 2
}
