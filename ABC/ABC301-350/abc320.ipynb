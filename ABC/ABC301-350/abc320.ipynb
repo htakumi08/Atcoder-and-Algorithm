{
 "cells": [
  {
   "cell_type": "code",
   "execution_count": null,
   "metadata": {},
   "outputs": [],
   "source": [
    "# B-x\n",
    "S = input()\n",
    "n = len(S)\n",
    "\n",
    "if S == S[::-1]:\n",
    "    ans = n\n",
    "else:\n",
    "    ans = 1\n",
    "    \n",
    "for i in range(n):\n",
    "    for j in range(i+1,n):\n",
    "        T = S[i:j]\n",
    "        if T == T[::-1]:\n",
    "            ans = max(ans,len(T))\n",
    "print(ans)"
   ]
  },
  {
   "cell_type": "code",
   "execution_count": null,
   "metadata": {},
   "outputs": [],
   "source": [
    "# 解答\n",
    "# 文字列Sの部分文字列が回分かどうかを判定し、その長さを出力する実装\n",
    "S = input()\n",
    "size = len(S)\n",
    "\n",
    "result = 0\n",
    "for i in range(size):\n",
    "    for j in range(i+1,size+1):\n",
    "        if \"\".join(list(reversed(S[i:j]))) == S[i:j]:\n",
    "            result = max(result,j-i)\n",
    "print(result)"
   ]
  }
 ],
 "metadata": {
  "language_info": {
   "name": "python"
  }
 },
 "nbformat": 4,
 "nbformat_minor": 2
}
