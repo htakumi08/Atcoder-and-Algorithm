{
 "cells": [
  {
   "cell_type": "code",
   "execution_count": null,
   "metadata": {},
   "outputs": [],
   "source": [
    "#B\n",
    "S = input()\n",
    "n = len(S)\n",
    "\n",
    "if S == S[::-1]:\n",
    "    ans = n\n",
    "else:\n",
    "    ans = 1\n",
    "    \n",
    "for i in range(n):\n",
    "    for j in range(i+1,n):\n",
    "        T = S[i:j]\n",
    "        if T == T[::-1]:\n",
    "            ans = max(ans,len(T))\n",
    "print(ans)"
   ]
  }
 ],
 "metadata": {
  "language_info": {
   "name": "python"
  }
 },
 "nbformat": 4,
 "nbformat_minor": 2
}
