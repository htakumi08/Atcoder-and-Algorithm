{
 "cells": [
  {
   "cell_type": "code",
   "execution_count": null,
   "metadata": {},
   "outputs": [],
   "source": [
    "# B-x WA:1\n",
    "# B問題で考察して時間かかるなら全探索を考えろ！！時間の無駄だ！\n",
    "# いい加減学習しろ。B問題で考察に時間かかりそうなら全探索に切り替えろ\n",
    "N,X = map(int,input().split())\n",
    "A = list(map(int,input().split()))\n",
    "A.sort()\n",
    "num = sum(A[1:N-2])\n",
    "\n",
    "for i in A:\n",
    "    if X == i:\n",
    "        print(0)\n",
    "        exit()\n",
    "\n",
    "if A[0] < X-num <= A[N-2]:\n",
    "    print(X-num)\n",
    "elif X-num <= A[0]: \n",
    "    print(0)\n",
    "else:\n",
    "    print(-1)"
   ]
  },
  {
   "cell_type": "code",
   "execution_count": null,
   "metadata": {},
   "outputs": [],
   "source": [
    "# 解答\n",
    "# 配列Aに0~100を追加してソート、両端切り離した合計が条件に合うかどうかを考える問題\n",
    "N,X = map(int,input().split())\n",
    "A = list(map(int,input().split()))\n",
    "\n",
    "ans = -1\n",
    "for i in range(101):\n",
    "    a = A.copy() + [i]\n",
    "    a.sort()\n",
    "    if sum(a[1:-1]) >= X:\n",
    "        ans = i\n",
    "        break\n",
    "print(ans)"
   ]
  }
 ],
 "metadata": {
  "language_info": {
   "name": "python"
  }
 },
 "nbformat": 4,
 "nbformat_minor": 2
}
