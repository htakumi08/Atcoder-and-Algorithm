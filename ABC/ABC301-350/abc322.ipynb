{
 "cells": [
  {
   "cell_type": "code",
   "execution_count": null,
   "metadata": {},
   "outputs": [],
   "source": [
    "# B-o\n",
    "# 条件をていねいにクリアしていく問題\n",
    "N,M = map(int,input().split())\n",
    "S = input()\n",
    "T = input()\n",
    "\n",
    "if S == T[0:N] and S == T[M-N:]:\n",
    "    print(\"0\")\n",
    "elif S == T[0:N] and S != T[M-N:]:\n",
    "    print(\"1\")\n",
    "elif S != T[0:N] and S == T[M-N:]:\n",
    "    print(\"2\")\n",
    "else:\n",
    "    print(\"3\")"
   ]
  },
  {
   "cell_type": "code",
   "execution_count": null,
   "metadata": {},
   "outputs": [],
   "source": [
    "# C-o\n",
    "# 配列の逆順から考えて、ループ一度で処理できる問題.\n",
    "# 逆順で1,2,3...のように並ぶ系は逆順で考えてみる\n",
    "N,M = map(int,input().split())\n",
    "A = list(map(int,input().split()))\n",
    "\n",
    "hanabi = [0]*(N+1)\n",
    "num = 0\n",
    "for i in range(M):\n",
    "    hanabi[A[i]] = 0\n",
    "    for j in range(A[i]-1,num,-1):\n",
    "        hanabi[j] = hanabi[j+1] + 1\n",
    "    \n",
    "    num = A[i]\n",
    "\n",
    "for i in range(1,N+1):\n",
    "    print(hanabi[i])"
   ]
  },
  {
   "cell_type": "code",
   "execution_count": null,
   "metadata": {},
   "outputs": [],
   "source": [
    "# c-解答\n",
    "N,M = map(int,input().split())\n",
    "A = list(map(int,input().split()))\n",
    "hanabi = [False]*(N+1)\n",
    "for a in A:\n",
    "    hanabi[a] = True\n",
    "\n",
    "nxt = N\n",
    "ans = [0]*(N+1)\n",
    "for i in range(N,0,-1):\n",
    "    if hanabi:\n",
    "        nxt = i\n",
    "    ans[i] = nxt - i\n",
    "\n",
    "for i in range(1,N+1):\n",
    "    print(ans[i])"
   ]
  }
 ],
 "metadata": {
  "language_info": {
   "name": "python"
  }
 },
 "nbformat": 4,
 "nbformat_minor": 2
}
