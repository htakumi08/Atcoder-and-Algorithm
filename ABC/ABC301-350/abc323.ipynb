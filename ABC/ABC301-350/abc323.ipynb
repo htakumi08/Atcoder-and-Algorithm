{
 "cells": [
  {
   "cell_type": "code",
   "execution_count": null,
   "metadata": {},
   "outputs": [],
   "source": [
    "# B-x\n",
    "# カウント数とインデックスどちらも保存して起きたい場合\n",
    "# dictを使うのではなく、タプルで組み合わせた状態で配列に保存していくということを覚えたほうがいいな。\n",
    "N = int(input())\n",
    "S = [input() for _ in range(N)]\n",
    "\n",
    "# カウント数負にすると.sort()で勝ちが多い順に並ぶ\n",
    "ans = [(-S[i].count(\"o\"),i) for i in range(N)]\n",
    "ans.sort()\n",
    "print(\" \".join(str(ans[i][1]+1) for i in range(N)))"
   ]
  },
  {
   "cell_type": "code",
   "execution_count": null,
   "metadata": {},
   "outputs": [],
   "source": [
    "#C-o\n",
    "# 条件を愚直に満たしていく問題\n",
    "N,M = map(int,input().split())\n",
    "A = list(map(int,input().split()))\n",
    "S = [None]*N\n",
    "for i in range(N):\n",
    "    S[i] = input()\n",
    "\n",
    "s_point = [0] * (N)\n",
    "for i in range(N):\n",
    "    for j in range(M):\n",
    "        if S[i][j] == \"o\":\n",
    "            s_point[i] += A[j]\n",
    "    s_point[i] += i+1 \n",
    "s_max = max(s_point)\n",
    "\n",
    "ans = [0]*N\n",
    "s_dic = {}\n",
    "for key,val in enumerate(A):\n",
    "    s_dic[key] = val\n",
    "s_dic2 = sorted(s_dic.items(), key=lambda x:x[1], reverse=True)\n",
    "\n",
    "for i in range(N):\n",
    "    cnt = 0\n",
    "    if s_max <= s_point[i]:\n",
    "        ans[i] = 0\n",
    "        continue\n",
    "    for idx,val in s_dic2:\n",
    "        if S[i][idx] == \"x\":\n",
    "            cnt += 1\n",
    "            s_point[i] += A[idx]\n",
    "        if s_max <= s_point[i]:\n",
    "            ans[i] = cnt\n",
    "            break \n",
    "\n",
    "for i in ans:\n",
    "    print(i)"
   ]
  }
 ],
 "metadata": {
  "language_info": {
   "name": "python"
  }
 },
 "nbformat": 4,
 "nbformat_minor": 2
}
