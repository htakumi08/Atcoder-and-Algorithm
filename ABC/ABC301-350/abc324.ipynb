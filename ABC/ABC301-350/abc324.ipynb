{
 "cells": [
  {
   "cell_type": "code",
   "execution_count": null,
   "metadata": {},
   "outputs": [],
   "source": [
    "# B-x\n",
    "# なんで駄目なのか分からない→テストケースで一つだけWA\n",
    "# 考えられることとしては、オーバーフローとかで駄目なのかも\n",
    "# range(100)→AC　ループ数足りなかった。 N<=10**18だからこれに対応できる程度のループ数必要だね\n",
    "N = int(input())\n",
    "\n",
    "result = False\n",
    "for i in range(30):\n",
    "    for j in range(30):\n",
    "        tmp = 2**i * 3**j\n",
    "        print(i,j,tmp)\n",
    "        if N == tmp:\n",
    "            result = True\n",
    "            break\n",
    "        if N < tmp:\n",
    "            break\n",
    "    if result:\n",
    "        break\n",
    "\n",
    "print(\"Yes\" if result else \"No\")"
   ]
  },
  {
   "cell_type": "code",
   "execution_count": null,
   "metadata": {},
   "outputs": [],
   "source": [
    "# 解答\n",
    "# 累乗とかで何回探索すればいいのか正確に分かりづらい場合は、割って考えていけないかを検討してみよう\n",
    "N = int(input())\n",
    "\n",
    "while N % 2 == 0:\n",
    "    N //= 2\n",
    "while N % 3 == 0:\n",
    "    N //= 3\n",
    "\n",
    "print(\"Yes\" if N == 1 else \"No\")"
   ]
  }
 ],
 "metadata": {
  "language_info": {
   "name": "python"
  }
 },
 "nbformat": 4,
 "nbformat_minor": 2
}
