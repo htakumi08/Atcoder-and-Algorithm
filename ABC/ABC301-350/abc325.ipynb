{
 "cells": [
  {
   "cell_type": "code",
   "execution_count": null,
   "metadata": {},
   "outputs": [],
   "source": [
    "# B-o\n",
    "# 24時間の周期性の利用と、全探索での最大値更新\n",
    "N = int(input())\n",
    "W,X = [0]*N,[0]*N\n",
    "for i in range(N):\n",
    "    W[i],X[i] = map(int,input().split())\n",
    "\n",
    "ans = 0\n",
    "for i in range(24):\n",
    "    tmp = 0\n",
    "    for j in range(N):\n",
    "        time = (i+X[j]) % 24\n",
    "        if 9 < time <= 18:\n",
    "            tmp += W[j] \n",
    "\n",
    "    ans = max(ans, tmp)\n",
    "\n",
    "print(ans)"
   ]
  }
 ],
 "metadata": {
  "language_info": {
   "name": "python"
  }
 },
 "nbformat": 4,
 "nbformat_minor": 2
}
