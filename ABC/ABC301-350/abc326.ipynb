{
 "cells": [
  {
   "cell_type": "code",
   "execution_count": null,
   "metadata": {},
   "outputs": [],
   "source": [
    "# B-o\n",
    "N = int(input())\n",
    "\n",
    "for i in range(N,920):\n",
    "    s = str(i)\n",
    "    if int(s[0])*int(s[1]) == int(s[2]):\n",
    "        print(s)\n",
    "        break"
   ]
  },
  {
   "cell_type": "code",
   "execution_count": null,
   "metadata": {},
   "outputs": [],
   "source": [
    "# C-x\n",
    "# 二分探索\n",
    "N,M = map(int,input().split())\n",
    "A = list(map(int,input().split()))\n",
    "A.sort()\n",
    "\n",
    "import bisect\n",
    "for i in range(N):\n",
    "    # 配列AにA[i]+Mが挿入されるべき最小のインデックスを返す → -iしてプレゼントの数を整える\n",
    "    # 数直線座標自体は<=10**9だから、計算量少なくするために二分探索    \n",
    "    ans = max(ans, bisect.bisect_left(A,A[i]+M) - i)\n",
    "print(ans)"
   ]
  }
 ],
 "metadata": {
  "language_info": {
   "name": "python"
  }
 },
 "nbformat": 4,
 "nbformat_minor": 2
}
