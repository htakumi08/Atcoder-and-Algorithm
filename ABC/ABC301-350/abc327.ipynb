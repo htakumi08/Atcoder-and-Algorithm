{
 "cells": [
  {
   "cell_type": "code",
   "execution_count": null,
   "metadata": {},
   "outputs": [],
   "source": [
    "# B-o\n",
    "B = int(input())\n",
    "\n",
    "result = False\n",
    "for i in range(1,20):\n",
    "    if i**i == B:\n",
    "        result = True\n",
    "        num = i\n",
    "        break\n",
    "\n",
    "print(num if result else \"-1\")"
   ]
  },
  {
   "cell_type": "code",
   "execution_count": null,
   "metadata": {},
   "outputs": [],
   "source": [
    "# C-x\n",
    "# 愚直にやるだけ。ていねいにやるしかない。\n",
    "A = []\n",
    "for i in range(9):\n",
    "    a = list(map(int,input().split()))\n",
    "    A.append(a)\n",
    "\n",
    "row = [set() for _ in range(9)]\n",
    "column = [set() for _ in range(9)]\n",
    "block = [[set() for _ in range(3)] for i in range(3)]\n",
    "\n",
    "for i in range(9):\n",
    "    for j in range(9):\n",
    "        row[i].add(A[i][j])\n",
    "        column[j].add(A[i][j])\n",
    "        block[i//3][j//3].add(A[i][j])\n",
    "\n",
    "if (\n",
    "    all(len(r) == 9 for r in row)\n",
    "    and all(len(c) == 9 for c in column)\n",
    "    and all(all(len(b) == 9 for b in br) for br in block)\n",
    "):\n",
    "    print(\"Yes\")\n",
    "else:\n",
    "    print(\"No\")"
   ]
  }
 ],
 "metadata": {
  "language_info": {
   "name": "python"
  }
 },
 "nbformat": 4,
 "nbformat_minor": 2
}
