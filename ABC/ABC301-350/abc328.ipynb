{
 "cells": [
  {
   "cell_type": "code",
   "execution_count": null,
   "metadata": {},
   "outputs": [],
   "source": [
    "# A-o\n",
    "N,X = map(int,input().split())\n",
    "S = list(map(int,input().split()))\n",
    "\n",
    "ans = 0\n",
    "for i in range(N):\n",
    "    if S[i] <= X:\n",
    "        ans += S[i]\n",
    "print(ans)"
   ]
  },
  {
   "cell_type": "code",
   "execution_count": null,
   "metadata": {},
   "outputs": [],
   "source": [
    "# B-x\n",
    "N = int(input())\n",
    "D = list(map(int,input().split()))\n",
    "\n",
    "ans = 0\n",
    "for m in range(N):\n",
    "    for d in range(D[m]):\n",
    "        if len(set(str(m+1) + str(d+1))) == 1:\n",
    "            ans += 1\n",
    "print(ans)"
   ]
  },
  {
   "cell_type": "code",
   "execution_count": null,
   "metadata": {},
   "outputs": [],
   "source": [
    "# C-o\n",
    "# 累積和は添字の扱いがこんがらがって時間取られる.\n",
    "N,Q = map(int,(input().split()))\n",
    "S = input()\n",
    "l,r = [0]*Q,[0]*Q\n",
    "for i in range(Q):\n",
    "    l[i],r[i] = map(int,input().split())\n",
    "\n",
    "s_cnt = [0]*(N+1)\n",
    "for i in range(1,N):\n",
    "    if S[i] == S[i-1]:\n",
    "        s_cnt[i+1] = s_cnt[i] + 1\n",
    "    else:\n",
    "        s_cnt[i+1] = s_cnt[i]\n",
    "\n",
    "# print(s_cnt)\n",
    "for i in range(Q):\n",
    "    print(s_cnt[r[i]] - s_cnt[l[i]])"
   ]
  }
 ],
 "metadata": {
  "language_info": {
   "name": "python"
  }
 },
 "nbformat": 4,
 "nbformat_minor": 2
}
