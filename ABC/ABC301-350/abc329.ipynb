{
 "cells": [
  {
   "cell_type": "code",
   "execution_count": null,
   "metadata": {},
   "outputs": [],
   "source": [
    "# A-o\n",
    "S = list(input())\n",
    "print(*S,sep=\" \")"
   ]
  },
  {
   "cell_type": "code",
   "execution_count": null,
   "metadata": {},
   "outputs": [],
   "source": [
    "# B-o\n",
    "N = int(input())\n",
    "A = list(map(int,input().split()))\n",
    "\n",
    "for i in sorted(A,reverse=True):\n",
    "    if max(A) != i:\n",
    "        print(i)\n",
    "        break"
   ]
  },
  {
   "cell_type": "code",
   "execution_count": null,
   "metadata": {},
   "outputs": [],
   "source": [
    "# C-o\n",
    "N = int(input())\n",
    "S = input()\n",
    "\n",
    "from string import ascii_lowercase\n",
    "from collections import defaultdict\n",
    "d = defaultdict(int)\n",
    "\n",
    "for i in ascii_lowercase:\n",
    "    tmp = 0\n",
    "    for j in S:\n",
    "        if i == j:\n",
    "            tmp += 1\n",
    "        else:\n",
    "            d[i] = max(d[i], tmp)\n",
    "            tmp = 0\n",
    "    if tmp != 0:\n",
    "        d[i] = max(d[i],tmp)\n",
    "\n",
    "# print(d)\n",
    "print(sum(d.values()))"
   ]
  },
  {
   "cell_type": "code",
   "execution_count": null,
   "metadata": {},
   "outputs": [],
   "source": [
    "# C解答\n",
    "import collections\n",
    "import itertools\n",
    "\n",
    "N = int(input())\n",
    "S = input()\n",
    "\n",
    "d = collections.defaultdict(int)\n",
    "for c,g in itertools.groupby(S):\n",
    "    d[c] = max(d[c],len(list(g)))\n",
    "print(sum(d.values()))\n",
    "\n",
    "\"\"\"\n",
    "class groupby:\n",
    "    # [k for k, g in groupby('AAAABBBCCDAABBB')] → A B C D A B\n",
    "    # [list(g) for k, g in groupby('AAAABBBCCD')] → AAAA BBB CC D\n",
    "\"\"\""
   ]
  }
 ],
 "metadata": {
  "language_info": {
   "name": "python"
  }
 },
 "nbformat": 4,
 "nbformat_minor": 2
}
