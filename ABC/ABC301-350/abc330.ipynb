{
 "cells": [
  {
   "cell_type": "code",
   "execution_count": null,
   "metadata": {},
   "outputs": [],
   "source": [
    "# A-o\n",
    "N,L = map(int,input().split())\n",
    "A = list(map(int,input().split()))\n",
    "\n",
    "ans = 0\n",
    "for i in range(N):\n",
    "    if A[i] >= L:\n",
    "        ans += 1\n",
    "\n",
    "print(ans)"
   ]
  },
  {
   "cell_type": "code",
   "execution_count": null,
   "metadata": {},
   "outputs": [],
   "source": [
    "# B-o\n",
    "N,L,R  = map(int,input().split())\n",
    "A = list(map(int,input().split()))\n",
    "\n",
    "x = []\n",
    "for i in range(N):\n",
    "    if A[i] <= L:\n",
    "        x.append(L) \n",
    "    elif A[i] >= R:\n",
    "        x.append(R)\n",
    "    else:\n",
    "        x.append(A[i])\n",
    "\n",
    "print(*x)"
   ]
  },
  {
   "cell_type": "code",
   "execution_count": null,
   "metadata": {},
   "outputs": [],
   "source": [
    "# C-x\n",
    "D = int(input())\n",
    "\n",
    "ans = D\n",
    "for x in range(int(D**0.5)+9):\n",
    "    z = D - x*x\n",
    "    if z < 0:\n",
    "        ans = min(ans,-z)\n",
    "    else:\n",
    "        y1 = int(z**0.5)\n",
    "        y2 = y1 + 1\n",
    "        ans = min(ans,z-y1*y1, y2*y2-z)\n",
    "print(ans)"
   ]
  }
 ],
 "metadata": {
  "language_info": {
   "name": "python"
  }
 },
 "nbformat": 4,
 "nbformat_minor": 2
}
