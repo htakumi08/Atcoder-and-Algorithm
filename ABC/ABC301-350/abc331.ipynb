{
 "cells": [
  {
   "cell_type": "code",
   "execution_count": null,
   "metadata": {},
   "outputs": [],
   "source": [
    "# A-o\n",
    "M,D = map(int,input().split())\n",
    "y,m,d = map(int,input().split())\n",
    "\n",
    "if m == M and d == D:\n",
    "    print(y+1,1,1)\n",
    "elif m != M and d == D:\n",
    "    print(y,m+1,1)\n",
    "else:\n",
    "    print(y,m,d+1)"
   ]
  },
  {
   "cell_type": "code",
   "execution_count": null,
   "metadata": {},
   "outputs": [],
   "source": [
    "# B-x\n",
    "N,S,M,L = map(int,input().split())\n",
    "\n",
    "# 必要な卵パックはたかだか100パック。\n",
    "# → 0~Nパック買うか試す → 100**3程度なら全探索で求めれる。\n",
    "# → 各パックでfor文→合計個数N個以上⇒min()の値を更新していく。\n",
    "\n",
    "ans = float(\"inf\")\n",
    "for i in range(101):\n",
    "    for j in range(101):\n",
    "        for k in range(101):\n",
    "            if i*6 + j*8 + k*12 >= N:\n",
    "                ans = min(ans, i*S + j*M + k*L)\n",
    "print(ans)"
   ]
  },
  {
   "cell_type": "code",
   "execution_count": null,
   "metadata": {},
   "outputs": [],
   "source": [
    "# C-x\n",
    "# 計算量over\n",
    "# for内sum(スライス)の部分が最大でO(N**2)\n",
    "N = int(input())\n",
    "A = list(map(int,input().split()))\n",
    "\n",
    "B = [0]*(10**6)\n",
    "for i in range(N):\n",
    "    B[A[i]-1] += A[i]\n",
    "\n",
    "#print(B[:N])\n",
    "for i in range(N):\n",
    "    A[i] = sum(B[A[i]:])\n",
    "print(*A)"
   ]
  },
  {
   "cell_type": "code",
   "execution_count": null,
   "metadata": {},
   "outputs": [],
   "source": [
    "# 解答\n",
    "# 配列を降順にして、1~Nでfor回すときに差分でAiより大きい配列Aの和を求めれるようにする\n",
    "# → 同じ数値は纏めて数値と個数を管理。降順にし、和を求めていく。\n",
    "from collections import Counter\n",
    "\n",
    "N = int(input())\n",
    "A = list(map(int,input().split()))\n",
    "c = Counter(A)\n",
    "ans = {}\n",
    "s = 0\n",
    "\n",
    "# print(c)\n",
    "for v,t in sorted(c.items(), reverse=True):\n",
    "    ans[v] = s\n",
    "    s += v*t\n",
    "# print(ans)\n",
    "# print(ans[0])\n",
    "print(\" \".join(str(ans[x]) for x in A))"
   ]
  }
 ],
 "metadata": {
  "language_info": {
   "name": "python"
  }
 },
 "nbformat": 4,
 "nbformat_minor": 2
}
