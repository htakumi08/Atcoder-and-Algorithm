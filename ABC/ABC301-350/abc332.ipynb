{
 "cells": [
  {
   "cell_type": "code",
   "execution_count": null,
   "metadata": {},
   "outputs": [],
   "source": [
    "# A-o\n",
    "N,S,K = map(int,input().split())\n",
    "P,Q = [0]*N,[0]*N\n",
    "for i in range(N):\n",
    "    P[i],Q[i] = map(int,input().split())\n",
    "\n",
    "ans = 0\n",
    "for i in range(N):\n",
    "    ans += P[i]*Q[i]\n",
    "\n",
    "if ans >= S:\n",
    "    print(ans)\n",
    "else:\n",
    "    print(ans+K)"
   ]
  },
  {
   "cell_type": "code",
   "execution_count": null,
   "metadata": {},
   "outputs": [],
   "source": [
    "#B-x-o\n",
    "K,G,M = map(int,input().split())\n",
    "# 操作により変動するものは変数でおく\n",
    "g,m = 0,0\n",
    "\n",
    "for i in range(K):\n",
    "    if g == G:\n",
    "        g = 0\n",
    "    elif m == 0:\n",
    "        m = M\n",
    "    else:\n",
    "        tmp = min(G-g,m)\n",
    "        g += tmp\n",
    "        m -= tmp\n",
    "\n",
    "print(g,m)"
   ]
  },
  {
   "cell_type": "code",
   "execution_count": null,
   "metadata": {},
   "outputs": [],
   "source": [
    "# C-WA\n",
    "# len(max_s)とlen(cnt_s)の比較をしている部分\n",
    "# → 111112 と 222 とあった場合111112が最後まで使われるが、必要なTシャツは222の3枚以上は必要だから\n",
    "# この記述だと条件不適な場合がある。\n",
    "N,M = map(int,input().split())\n",
    "S = input()\n",
    "\n",
    "max_s = []\n",
    "cnt_s = []\n",
    "for i in S:\n",
    "    if i == \"1\" or i == \"2\":\n",
    "        cnt_s.append(i)\n",
    "        if len(cnt_s) == len(S):\n",
    "            max_s = cnt_s\n",
    "    else:\n",
    "        if len(max_s) < len(cnt_s):\n",
    "            max_s = cnt_s\n",
    "            cnt_s.clear()\n",
    "\n",
    "t = 0\n",
    "m = M\n",
    "for i in max_s:\n",
    "    if i == \"1\":\n",
    "        m -= 1\n",
    "    else:\n",
    "        t += 1\n",
    "\n",
    "print(t if m >= 0 else t+(-m))"
   ]
  },
  {
   "cell_type": "code",
   "execution_count": null,
   "metadata": {},
   "outputs": [],
   "source": [
    "# 解答\n",
    "N, M = map(int, input().split())\n",
    "S = input()\n",
    "S += \"0\"  # 文字列の終わりに '0' を追加\n",
    "\n",
    "ans = 0\n",
    "x = 0\n",
    "y = 0\n",
    "\n",
    "# 文字列を一文字ずつ確認\n",
    "for i in range(N+1):\n",
    "    if S[i] == '0':\n",
    "        ans = max(ans, max(x + y - M, y))\n",
    "        x = 0\n",
    "        y = 0\n",
    "    elif S[i] == '1':\n",
    "        x += 1\n",
    "    elif S[i] == '2':\n",
    "        y += 1\n",
    "\n",
    "# 結果の出力\n",
    "print(ans)"
   ]
  }
 ],
 "metadata": {
  "language_info": {
   "name": "python"
  }
 },
 "nbformat": 4,
 "nbformat_minor": 2
}
