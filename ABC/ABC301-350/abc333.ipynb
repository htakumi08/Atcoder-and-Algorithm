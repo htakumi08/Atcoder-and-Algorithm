{
 "cells": [
  {
   "cell_type": "code",
   "execution_count": null,
   "metadata": {},
   "outputs": [],
   "source": [
    "# A-o\n",
    "N = int(input())\n",
    "\n",
    "print(str(N)*N)"
   ]
  },
  {
   "cell_type": "code",
   "execution_count": null,
   "metadata": {},
   "outputs": [],
   "source": [
    "# B-x\n",
    "# ord()で文字を数値にしてその差をを使って文字間の距離を考えることができる。\n",
    "S = input()\n",
    "T = input()\n",
    "\n",
    "# 近さを判断する関数\n",
    "def near(x,y):\n",
    "    return abs(ord(y)-ord(x)) == 1 or abs(ord(y)-ord(x) == 4)\n",
    "\n",
    "if near(S[0],S[1]) == near(T[0],T[1]):\n",
    "    print(\"Yes\")\n",
    "else:\n",
    "    print(\"No\")"
   ]
  },
  {
   "cell_type": "code",
   "execution_count": null,
   "metadata": {},
   "outputs": [],
   "source": [
    "# C-x\n",
    "# 愚直な探索で解答できるものを意外とたくさんある。\n",
    "# →アルゴリズムや考察も大事だが、愚直な探索解も考えて計算量オーバーならば別解を考える。\n",
    "N = int(input())\n",
    "r = [int(\"1\"*(i+1)) for i in range(12)]\n",
    "s = set()\n",
    "\n",
    "for i in range(12):\n",
    "    for j in range(12):\n",
    "        for k in range(12):\n",
    "            s.add(r[i] + r[j] + r[k])\n",
    "print(sorted(s)[N-1])"
   ]
  }
 ],
 "metadata": {
  "language_info": {
   "name": "python"
  }
 },
 "nbformat": 4,
 "nbformat_minor": 2
}
