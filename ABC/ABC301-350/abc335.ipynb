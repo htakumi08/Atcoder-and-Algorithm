{
 "cells": [
  {
   "cell_type": "code",
   "execution_count": null,
   "metadata": {},
   "outputs": [],
   "source": [
    "# A-o\n",
    "S = list(input())\n",
    "\n",
    "S[-1] = \"4\"\n",
    "print(*S,sep=\"\")"
   ]
  },
  {
   "cell_type": "code",
   "execution_count": null,
   "metadata": {},
   "outputs": [],
   "source": [
    "# B-o\n",
    "N = int(input())\n",
    "\n",
    "ans = []\n",
    "for x in range(N+1):\n",
    "    for y in range(N+1):\n",
    "        for z in range(N+1):\n",
    "            if x+y+z <= N:\n",
    "                ans.append([x,y,z])\n",
    "\n",
    "for i in ans:\n",
    "    print(*i)"
   ]
  }
 ],
 "metadata": {
  "language_info": {
   "name": "python"
  }
 },
 "nbformat": 4,
 "nbformat_minor": 2
}
