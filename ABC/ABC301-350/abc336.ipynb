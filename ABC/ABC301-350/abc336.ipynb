{
 "cells": [
  {
   "cell_type": "code",
   "execution_count": null,
   "metadata": {},
   "outputs": [],
   "source": [
    "# A-o\n",
    "N = int(input())\n",
    "\n",
    "x = \"o\" * N\n",
    "print(\"L\" + x + \"n\" + \"g\")"
   ]
  },
  {
   "cell_type": "code",
   "execution_count": null,
   "metadata": {},
   "outputs": [],
   "source": [
    "# B-x\n",
    "N = int(input())\n",
    "\n",
    "# 30ビットまでチェックする\n",
    "for i in range(30):\n",
    "    # Nと2^iのビット単位のAND演算を行う\n",
    "    # ex)N=111000100 に対して2^0から、1を左にシフトしてANDをチェックする\n",
    "    if N & (1<<i):\n",
    "        print(i)\n",
    "        break"
   ]
  },
  {
   "cell_type": "code",
   "execution_count": null,
   "metadata": {},
   "outputs": [],
   "source": [
    "# B\n",
    "\"\"\"\n",
    "整数N ビット表示:bin(N) bin(-N):負の整数の2進数表現は2の補数\n",
    "2の補数→もとの数Nのビットを反転させ、1を加えたもの\n",
    "(N&-N)→数Nの最下位の1のビット位置を抽出できる.\n",
    "N=2024:11111100100\n",
    "-N    :00000011100\n",
    "AND   :        100 \n",
    "\"\"\"\n",
    "N = int(input())\n",
    "print((N & -N).bit_length() - 1)"
   ]
  },
  {
   "cell_type": "code",
   "execution_count": null,
   "metadata": {},
   "outputs": [],
   "source": [
    "# C-x\n",
    "# 扱う数値を進数を変えて考える\n",
    "# 扱う数値になんらかの規則性があった場合にはこれを考えてみてもいいのかもしれない\n",
    "# 進数類題：https://atcoder.jp/contests/abc186/tasks/abc186_c \n",
    "N = int(input())\n",
    "N -= 1\n",
    "x = []\n",
    "\n",
    "while N:\n",
    "    x.append(N % 5)\n",
    "    N //= 5\n",
    "\n",
    "if not x:\n",
    "    x.append(0)\n",
    "x.reverse()\n",
    "\n",
    "for i in x:\n",
    "    print(i*2, end=\"\")"
   ]
  }
 ],
 "metadata": {
  "language_info": {
   "name": "python"
  }
 },
 "nbformat": 4,
 "nbformat_minor": 2
}
