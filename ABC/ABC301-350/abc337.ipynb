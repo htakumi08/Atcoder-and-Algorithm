{
 "cells": [
  {
   "cell_type": "code",
   "execution_count": null,
   "metadata": {},
   "outputs": [],
   "source": [
    "# A-o\n",
    "N = int(input())\n",
    "X,Y = [],[]\n",
    "for _ in range(N):\n",
    "    x,y = map(int,input().split())\n",
    "    X.append(x)\n",
    "    Y.append(y)\n",
    "\n",
    "if sum(X) > sum(Y):\n",
    "    print(\"Takahashi\")\n",
    "elif sum(X) < sum(Y):\n",
    "    print(\"Aoki\")\n",
    "else:\n",
    "    print(\"Draw\")"
   ]
  },
  {
   "cell_type": "markdown",
   "metadata": {},
   "source": [
    "#### 文字列の操作  \n",
    "文字列の操作に関しては愚直にやれば、文字列を探索して実装することができるが  \n",
    "探索をしなくても求めることができる場合が多い。  \n",
    "何も思い浮かばなければ探索すればいいが、より計算量を減らしてくことを考えると  \n",
    "探索以外の方法を考える癖もつけよう."
   ]
  },
  {
   "cell_type": "code",
   "execution_count": null,
   "metadata": {},
   "outputs": [],
   "source": [
    "# B-o\n",
    "S = input()\n",
    "\n",
    "abc_len = 0\n",
    "idx = 0\n",
    "for i in range(len(S)):\n",
    "    if \"A\" == S[i]:\n",
    "        abc_len += 1\n",
    "    else:\n",
    "        idx = i\n",
    "        break\n",
    "\n",
    "for i in range(idx,len(S)):\n",
    "    if \"B\" == S[i]:\n",
    "        abc_len += 1\n",
    "    else:\n",
    "        idx = i\n",
    "        break\n",
    "\n",
    "for i in range(idx,len(S)):\n",
    "    if \"C\" == S[i]:\n",
    "        abc_len += 1\n",
    "    else:\n",
    "        idx = i\n",
    " \n",
    "print(\"Yes\" if abc_len == len(S) else \"No\")"
   ]
  },
  {
   "cell_type": "code",
   "execution_count": null,
   "metadata": {},
   "outputs": [],
   "source": [
    "# B -もう少し賢く解く\n",
    "# 文字列SはABCがいくつあったとしても必ずA.....B...C......のような順であれば良い。\n",
    "# → 文字列Sをソートして、ソート後の文字列==Sならば条件満たしている.\n",
    "\n",
    "S = input()\n",
    "\n",
    "if \"\".join(sorted(S)) == S:\n",
    "    print(\"Yes\")\n",
    "else:\n",
    "    print(\"No\")"
   ]
  },
  {
   "cell_type": "code",
   "execution_count": null,
   "metadata": {},
   "outputs": [],
   "source": [
    "# B-別解\n",
    "# SA,SB,SCの長さを決め打って、Sと同じ文字列になるかを考えてもいい。\n",
    "S = input()\n",
    "\n",
    "a = S.count(\"A\")\n",
    "b = S.count(\"B\")\n",
    "c = S.count(\"C\")\n",
    "\n",
    "if \"A\"*a + \"B\"*b + \"C\"*c == S:\n",
    "    print(\"Yes\")\n",
    "else:\n",
    "    print(\"No\")"
   ]
  },
  {
   "cell_type": "code",
   "execution_count": null,
   "metadata": {},
   "outputs": [],
   "source": [
    "# C-x\n",
    "# 配列の要素とindexをうまく使っていく\n",
    "# 要素に対応してindexを並べていく。 b[A[i]] = i+1\n",
    "N = int(input())\n",
    "A = list(map(int,input().split()))\n",
    "\n",
    "x = 0\n",
    "b = [0]*(N+1)\n",
    "for i in range(N):\n",
    "    if A[i] == -1:\n",
    "        x = i+1\n",
    "    else:\n",
    "        b[A[i]] = i+1\n",
    "\n",
    "ans = [x]\n",
    "for _ in range(N-1):\n",
    "    x = b[x]\n",
    "    ans.append(x)\n",
    "print(*ans)"
   ]
  }
 ],
 "metadata": {
  "language_info": {
   "name": "python"
  }
 },
 "nbformat": 4,
 "nbformat_minor": 2
}
