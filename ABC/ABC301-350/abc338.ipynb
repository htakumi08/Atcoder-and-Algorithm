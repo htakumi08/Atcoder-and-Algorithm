{
 "cells": [
  {
   "cell_type": "code",
   "execution_count": null,
   "metadata": {},
   "outputs": [],
   "source": [
    "# A-o\n",
    "from string import ascii_uppercase\n",
    "\n",
    "S = input()\n",
    "\n",
    "num = 101\n",
    "for i in range(len(S)):\n",
    "    if S[i] in ascii_uppercase:\n",
    "        num = i\n",
    "if num == 0:\n",
    "    print(\"Yes\")\n",
    "else:\n",
    "    print(\"No\")"
   ]
  },
  {
   "cell_type": "code",
   "execution_count": null,
   "metadata": {},
   "outputs": [],
   "source": [
    "# B-x\n",
    "# 文字列中の文字の数え上げ\n",
    "S = input()\n",
    "ans = \"a\"\n",
    "for i in range(ord(\"b\"), ord(\"z\")+1):\n",
    "    c = chr(i)\n",
    "    if S.count(c) > S.count(ans):\n",
    "        ans = c\n",
    "print(ans)"
   ]
  },
  {
   "cell_type": "code",
   "execution_count": null,
   "metadata": {},
   "outputs": [],
   "source": [
    "# B 別解\n",
    "from collections import Counter\n",
    "\n",
    "S = input()\n",
    "s_count = Counter(S)\n",
    "\n",
    "most_char = \"\"\n",
    "max_count = 0\n",
    "\n",
    "for char,count in s_count.items():\n",
    "    if count > max_count or (count == max_count and char < most_char):\n",
    "        most_char = char\n",
    "        max_count = count\n",
    "print(most_char)"
   ]
  }
 ],
 "metadata": {
  "language_info": {
   "name": "python"
  }
 },
 "nbformat": 4,
 "nbformat_minor": 2
}
