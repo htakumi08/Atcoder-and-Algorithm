{
 "cells": [
  {
   "cell_type": "code",
   "execution_count": null,
   "metadata": {},
   "outputs": [],
   "source": [
    "#A-o\n",
    "S = list(input().split(\".\"))\n",
    "print(S[-1])"
   ]
  },
  {
   "cell_type": "code",
   "execution_count": null,
   "metadata": {},
   "outputs": [],
   "source": [
    "# B-x-x\n",
    "H,W,N = map(int,input().split())\n",
    "S = [[\".\" for _ in range(W)] for _ in range(H)]\n",
    "\n",
    "x,y = 0,0\n",
    "# 四方向差分\n",
    "di = [-1,0,1,0]\n",
    "dj = [0,1,0,-1]\n",
    "direction = 0\n",
    "\n",
    "\"\"\"\n",
    "グリッドや二次元座標の問題(i,j)系の問題\n",
    "-dx,dyなどの差分(上下左右、上下左右斜め)の用意\n",
    "    x,y方向にどの方向に向かって処理を進めるかを決める\n",
    "-端に関して→H*Wグリッド等の行数、列数で割った余りを用いてoutofrangeの対策をする.\n",
    "\"\"\"\n",
    "for i in range(N):\n",
    "    if S[y][x] == \".\":\n",
    "        S[y][x] = \"#\"\n",
    "        direction += 1\n",
    "    else:\n",
    "        S[y][x] = \".\"\n",
    "        direction += 3\n",
    "    \n",
    "    direction %= 4\n",
    "    y += di[direction] + H\n",
    "    y %= H\n",
    "    x += dj[direction] + W\n",
    "    x %= W\n",
    "\n",
    "for i in range(H):\n",
    "    print(*S[i], sep=\"\")"
   ]
  },
  {
   "cell_type": "code",
   "execution_count": null,
   "metadata": {},
   "outputs": [],
   "source": [
    "# C-o\n",
    "# 大枠の答えの記述ができても、【どんな場合を考える必要があるか】の詰めが甘い -★\n",
    "\n",
    "N = int(input())\n",
    "A = list(map(int,input().split()))\n",
    "\n",
    "a_sum = sum(A)\n",
    "for i in range(N-1):\n",
    "    A[i+1] = A[i]+A[i+1]\n",
    "\n",
    "# ★上のforで負の整数出なかった場合を考えれていなかった。\n",
    "# for後のmin(A)非負と負の場合で処理が異なる\n",
    "if min(A) >= 0:\n",
    "    print(a_sum)\n",
    "else:\n",
    "    print(abs(min(A))+a_sum)"
   ]
  }
 ],
 "metadata": {
  "language_info": {
   "name": "python"
  }
 },
 "nbformat": 4,
 "nbformat_minor": 2
}
