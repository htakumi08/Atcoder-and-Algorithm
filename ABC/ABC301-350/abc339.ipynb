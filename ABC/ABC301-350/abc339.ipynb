{
 "cells": [
  {
   "cell_type": "code",
   "execution_count": null,
   "metadata": {},
   "outputs": [],
   "source": [
    "# B-x\n",
    "H,W,N = map(int,input().split())\n",
    "S = [[\".\" for _ in range(W)] for _ in range(H)]\n",
    "\n",
    "x,y = 0,0\n",
    "# 四方向差分\n",
    "di = [-1,0,1,0]\n",
    "dj = [0,1,0,-1]\n",
    "direction = 0\n",
    "\n",
    "\"\"\"\n",
    "グリッドや二次元座標の問題(i,j)系の問題\n",
    "-dx,dyなどの差分(上下左右、上下左右斜め)の用意\n",
    "    x,y方向にどの方向に向かって処理を進めるかを決める\n",
    "-端に関して→H*Wグリッド等の行数、列数で割った余りを用いてoutofrangeの対策をする.\n",
    "\"\"\"\n",
    "for i in range(N):\n",
    "    if S[y][x] == \".\":\n",
    "        S[y][x] = \"#\"\n",
    "        direction += 1\n",
    "    else:\n",
    "        S[y][x] = \".\"\n",
    "        direction += 3\n",
    "    \n",
    "    direction %= 4\n",
    "    y += di[direction] + H\n",
    "    y %= H\n",
    "    x += dj[direction] + W\n",
    "    x %= W\n",
    "\n",
    "for i in range(H):\n",
    "    print(*S[i], sep=\"\")"
   ]
  }
 ],
 "metadata": {
  "language_info": {
   "name": "python"
  }
 },
 "nbformat": 4,
 "nbformat_minor": 2
}
