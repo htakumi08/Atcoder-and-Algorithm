{
 "cells": [
  {
   "cell_type": "code",
   "execution_count": null,
   "metadata": {},
   "outputs": [],
   "source": [
    "# B-o\n",
    "Q = int(input())\n",
    "queries = [list(map(int,input().split())) for _ in range(Q)]\n",
    "\n",
    "A = []\n",
    "for i in range(Q):\n",
    "    if queries[i][0] == 1:\n",
    "        A.append(queries[i][1])\n",
    "    elif queries[i][0] == 2:\n",
    "        print(A[len(A)-queries[i][1]])"
   ]
  },
  {
   "cell_type": "code",
   "execution_count": null,
   "metadata": {},
   "outputs": [],
   "source": [
    "# C-x\n",
    "# 再帰関数https://qiita.com/drken/items/23a4f604fa3f505dd5ad\n",
    "# 再帰関数の高速化 → メモ化再帰\n",
    "\n",
    "from functools import cache\n",
    "\n",
    "N = int(input())\n",
    "\n",
    "@cache\n",
    "def f(N):\n",
    "    if N == 1:\n",
    "        return 0\n",
    "    else:\n",
    "        return f(N//2) + f((N+1)//2) + N\n",
    "    \n",
    "print(f(N))\n",
    "\n",
    "\"\"\"連想配列を使って\n",
    "N = int(input())\n",
    "memo = {}\n",
    "\n",
    "def f(N):\n",
    "    if N == 1:\n",
    "        return 0\n",
    "    elif N in memo:\n",
    "        return memo[N]\n",
    "    else:\n",
    "        memo[N] = f(N//2) + f((N+1)//2) + N\n",
    "        return memo[N]\n",
    "\n",
    "print(f(N))\n",
    "\"\"\""
   ]
  }
 ],
 "metadata": {
  "language_info": {
   "name": "python"
  }
 },
 "nbformat": 4,
 "nbformat_minor": 2
}
