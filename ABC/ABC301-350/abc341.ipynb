{
 "cells": [
  {
   "cell_type": "code",
   "execution_count": 1,
   "metadata": {},
   "outputs": [
    {
     "ename": "ValueError",
     "evalue": "invalid literal for int() with base 10: ''",
     "output_type": "error",
     "traceback": [
      "\u001b[0;31m---------------------------------------------------------------------------\u001b[0m",
      "\u001b[0;31mValueError\u001b[0m                                Traceback (most recent call last)",
      "Cell \u001b[0;32mIn[1], line 3\u001b[0m\n\u001b[1;32m      1\u001b[0m \u001b[38;5;66;03m# B→x\u001b[39;00m\n\u001b[1;32m      2\u001b[0m \u001b[38;5;66;03m# 問題をよく読んで\u001b[39;00m\n\u001b[0;32m----> 3\u001b[0m N \u001b[38;5;241m=\u001b[39m \u001b[38;5;28mint\u001b[39m(\u001b[38;5;28minput\u001b[39m())\n\u001b[1;32m      4\u001b[0m A \u001b[38;5;241m=\u001b[39m \u001b[38;5;28mlist\u001b[39m(\u001b[38;5;28mmap\u001b[39m(\u001b[38;5;28mint\u001b[39m,\u001b[38;5;28minput\u001b[39m()\u001b[38;5;241m.\u001b[39msplit()))\n\u001b[1;32m      5\u001b[0m S,T \u001b[38;5;241m=\u001b[39m [\u001b[38;5;241m0\u001b[39m]\u001b[38;5;241m*\u001b[39m(N\u001b[38;5;241m-\u001b[39m\u001b[38;5;241m1\u001b[39m),[\u001b[38;5;241m0\u001b[39m]\u001b[38;5;241m*\u001b[39m(N\u001b[38;5;241m-\u001b[39m\u001b[38;5;241m1\u001b[39m)\n",
      "\u001b[0;31mValueError\u001b[0m: invalid literal for int() with base 10: ''"
     ]
    }
   ],
   "source": [
    "# B→x-o\n",
    "# 問題をよく読んで理解しよう.\n",
    "N = int(input())\n",
    "A = list(map(int,input().split()))\n",
    "S,T = [0]*(N-1),[0]*(N-1)\n",
    "for i in range(N-1):\n",
    "    S[i],T[i] = map(int,input().split())\n",
    "\n",
    "# i → 国iとみる\n",
    "for i in range(N-1):\n",
    "    A[i+1] += (A[i]//S[i]) * T[i]\n",
    "\n",
    "print(A[N-1]) "
   ]
  },
  {
   "cell_type": "code",
   "execution_count": null,
   "metadata": {},
   "outputs": [],
   "source": [
    "# C-x:TLE\n",
    "# pypyにすれば-o\n",
    "# 計算量1.25*10**8 → 10**8程度の計算量のものはpypyで提出すれば通るかも\n",
    "\n",
    "H,W,N = map(int,input().split())\n",
    "T = input()\n",
    "S = []\n",
    "for _ in range(H):\n",
    "    s_ = input()\n",
    "    S.append(s_)\n",
    "\n",
    "cnt = 0\n",
    "for i in range(1,H-1):\n",
    "    for j in range(1,W-1):\n",
    "        result = True\n",
    "        if S[i][j] == \"#\":\n",
    "            continue\n",
    "        dx,dy = j,i\n",
    "        for k in range(N):\n",
    "            if T[k] == \"L\":\n",
    "                dx -= 1\n",
    "            elif T[k] == \"R\":\n",
    "                dx += 1\n",
    "            elif T[k] == \"U\":\n",
    "                dy -= 1\n",
    "            elif T[k] == \"D\":\n",
    "                dy += 1\n",
    "\n",
    "            if S[dy][dx] == \"#\":\n",
    "                result = False\n",
    "                break\n",
    "        \n",
    "        if result:\n",
    "            cnt += 1\n",
    "\n",
    "print(cnt)"
   ]
  }
 ],
 "metadata": {
  "kernelspec": {
   "display_name": "base",
   "language": "python",
   "name": "python3"
  },
  "language_info": {
   "codemirror_mode": {
    "name": "ipython",
    "version": 3
   },
   "file_extension": ".py",
   "mimetype": "text/x-python",
   "name": "python",
   "nbconvert_exporter": "python",
   "pygments_lexer": "ipython3",
   "version": "3.11.4"
  }
 },
 "nbformat": 4,
 "nbformat_minor": 2
}
