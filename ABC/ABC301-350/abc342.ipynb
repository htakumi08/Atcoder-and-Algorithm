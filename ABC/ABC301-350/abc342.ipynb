{
 "cells": [
  {
   "cell_type": "code",
   "execution_count": null,
   "metadata": {},
   "outputs": [],
   "source": [
    "# B →o\n",
    "N = int(input())\n",
    "P = list(map(int,input().split()))\n",
    "Q = int(input())\n",
    "A,B = [0]*Q,[0]*Q\n",
    "for i in range(Q):\n",
    "    A[i],B[i] = map(int,input().split())\n",
    "\n",
    "for i in range(Q):\n",
    "    p_a,p_b = 0,0\n",
    "    for j in range(N):\n",
    "        if P[j] == A[i]:\n",
    "            p_a = j\n",
    "        if P[j] == B[i]:\n",
    "            p_b = j\n",
    "    tmp = min(p_a,p_b)\n",
    "    print(P[tmp])"
   ]
  },
  {
   "cell_type": "code",
   "execution_count": null,
   "metadata": {},
   "outputs": [],
   "source": [
    "# C →x\n",
    "# from string import ascii_lowercase → \"abc...xyz\"\n",
    "\n",
    "N = int(input())\n",
    "S = input()\n",
    "Q = int(input())\n",
    "c,d = [None]*Q,[None]*Q\n",
    "for i in range(Q):\n",
    "    c[i],d[i] = map(str,input().split())\n",
    "\n",
    "# アルファベットのテーブルを用意 → 辞書型を使ってもできる\n",
    "alpha = \"abcdefghijklmnopqrstuvwxyz\"\n",
    "S_index = []\n",
    "\n",
    "# 文字列Sのアルファベットテーブルのインデックスを記憶\n",
    "for i in S:\n",
    "    S_index.append(alpha.index(i))\n",
    "\n",
    "# アルファベットテーブルを変更していく\n",
    "for i in range(Q):\n",
    "    alpha = alpha.replace(c[i],d[i])\n",
    "\n",
    "ans = \"\"\n",
    "\n",
    "for i in S_index:\n",
    "    ans += alpha[i]\n",
    "print(ans)"
   ]
  }
 ],
 "metadata": {
  "language_info": {
   "name": "python"
  }
 },
 "nbformat": 4,
 "nbformat_minor": 2
}
