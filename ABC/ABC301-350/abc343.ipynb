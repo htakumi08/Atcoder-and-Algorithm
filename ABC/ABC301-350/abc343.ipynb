{
 "cells": [
  {
   "cell_type": "code",
   "execution_count": null,
   "metadata": {},
   "outputs": [],
   "source": [
    "# B →　AC\n",
    "N = int(input())\n",
    "A = [list(map(int,input().split())) for _ in range(N)]\n",
    "\n",
    "for y in range(N):\n",
    "    num = []\n",
    "    for x in range(N):\n",
    "        if A[y][x] == 1:\n",
    "            num.append(x+1)\n",
    "    print(*num)"
   ]
  },
  {
   "cell_type": "code",
   "execution_count": null,
   "metadata": {},
   "outputs": [],
   "source": [
    "# C→x\n",
    "N = int(input())\n",
    "\n",
    "def is_ok(n):\n",
    "    s = str(n)\n",
    "    return s == s[::-1]\n",
    "\n",
    "# 求めるK(result)はNの範囲内にある→x**3 = K を満たす\n",
    "# →　1<=x<=10**6 この範囲なら全探索可能\n",
    "i = 1\n",
    "result =1\n",
    "while i*i*i <= N:\n",
    "    num = i*i*i\n",
    "    if is_ok(num):\n",
    "        result = num\n",
    "    i += 1\n",
    "print(result)"
   ]
  }
 ],
 "metadata": {
  "language_info": {
   "name": "python"
  }
 },
 "nbformat": 4,
 "nbformat_minor": 2
}
