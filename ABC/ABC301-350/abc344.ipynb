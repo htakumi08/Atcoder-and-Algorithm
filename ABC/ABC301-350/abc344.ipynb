{
 "cells": [
  {
   "cell_type": "code",
   "execution_count": null,
   "metadata": {},
   "outputs": [],
   "source": [
    "# B → AC\n",
    "A = []\n",
    "\n",
    "isok = True\n",
    "while isok:\n",
    "    tmp = int(input())\n",
    "    A.append(tmp)\n",
    "    if tmp == 0:\n",
    "        isok = False\n",
    "\n",
    "for i in reversed(A):\n",
    "    print(i)"
   ]
  },
  {
   "cell_type": "code",
   "execution_count": null,
   "metadata": {},
   "outputs": [],
   "source": [
    "# C →　AC\n",
    "N = int(input())\n",
    "A = list(map(int,input().split()))\n",
    "M = int(input())\n",
    "B = list(map(int,input().split()))\n",
    "L = int(input())\n",
    "C = list(map(int,input().split()))\n",
    "Q = int(input())\n",
    "X = list(map(int,input().split()))\n",
    "\n",
    "# pythonのset型はハッシュテーブル使用→in使用時計算量O(1)\n",
    "s = set()\n",
    "for i in A:\n",
    "    for j in B:\n",
    "        for k in C:\n",
    "            s.add(i+j+k)\n",
    "\n",
    "for i in X:\n",
    "    print('Yes' if i in s else 'No')"
   ]
  }
 ],
 "metadata": {
  "language_info": {
   "name": "python"
  }
 },
 "nbformat": 4,
 "nbformat_minor": 2
}
