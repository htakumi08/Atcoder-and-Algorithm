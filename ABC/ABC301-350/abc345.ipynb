{
 "cells": [
  {
   "cell_type": "code",
   "execution_count": null,
   "metadata": {},
   "outputs": [],
   "source": [
    "# B → AC\n",
    "X = int(input())\n",
    "\n",
    "if X % 10 == 0:\n",
    "  print(X//10)\n",
    "else:\n",
    "  print(X//10 + 1)"
   ]
  },
  {
   "cell_type": "code",
   "execution_count": null,
   "metadata": {},
   "outputs": [],
   "source": [
    "# C →x\n",
    "# 場合の数を考える\n",
    "S = input()\n",
    "alpha = [0]*26\n",
    "\n",
    "for _,ch in enumerate(S):\n",
    "    # ord():単一文字を引数に取りunicodeコードポイント(整数値)を返す.\n",
    "    alpha[ord(ch)-ord('a')] += 1\n",
    "\n",
    "result = 0\n",
    "nochange = False\n",
    "for i in range(26):\n",
    "    if alpha[i] >= 2:\n",
    "        nochange = True\n",
    "    for j in range(i+1, 26):\n",
    "        result += alpha[i] * alpha[j]\n",
    "\n",
    "if nochange:\n",
    "    result += 1"
   ]
  }
 ],
 "metadata": {
  "language_info": {
   "name": "python"
  }
 },
 "nbformat": 4,
 "nbformat_minor": 2
}
