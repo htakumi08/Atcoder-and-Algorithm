{
 "cells": [
  {
   "cell_type": "code",
   "execution_count": null,
   "metadata": {},
   "outputs": [],
   "source": [
    "# B →x\n",
    "W,B = map(int,input().split())\n",
    "S = \"wbwbwwbwbwbw\"\n",
    "\n",
    "result = False\n",
    "# どの位置から確かめていくか\n",
    "for i in range(len(S)):\n",
    "    nw = 0\n",
    "    nb = 0\n",
    "    # 現在の位置iから(W+B)個の文字を数える\n",
    "    for j in range(W+B):\n",
    "        if S[(i+j) % len(S)] == \"w\":\n",
    "            nw += 1\n",
    "        else:\n",
    "            nb += 1\n",
    "    if W == nw and B == nb:\n",
    "        result = True\n",
    "\n",
    "print('Yes' if result else 'No')"
   ]
  },
  {
   "cell_type": "code",
   "execution_count": null,
   "metadata": {},
   "outputs": [],
   "source": [
    "# C →　TLE\n",
    "# python　set,dictの注意点→https://atcoder.jp/contests/abc346/editorial/9635\n",
    "N,K = map(int,input().split())\n",
    "A = list(map(int,input().split()))\n",
    "A = set(A)\n",
    "\n",
    "sum_k = K*(K+1)//2\n",
    "for i in A:\n",
    "    if i <= K:\n",
    "        sum_k -= i\n",
    "\n",
    "print(sum_k)\n",
    "# N,K = map(int,input().split())\n",
    "# A = list(map(int,input().split()))\n",
    "# A.sort()\n",
    "\n",
    "# sum_k = 0\n",
    "# # この部分が計算量オーバー\n",
    "# for i in range(1,K+1):\n",
    "#     sum_k += i\n",
    "\n",
    "# for i in range(N):\n",
    "#     if A[i] == K:\n",
    "#         a_slice = A[:i+1]\n",
    "#         break\n",
    "#     elif A[i] > K:\n",
    "#         a_slice = A[:i]\n",
    "#         break\n",
    "    \n",
    "# a_slice = set(a_slice)\n",
    "# print(sum_k - sum(a_slice))"
   ]
  }
 ],
 "metadata": {
  "language_info": {
   "name": "python"
  }
 },
 "nbformat": 4,
 "nbformat_minor": 2
}
