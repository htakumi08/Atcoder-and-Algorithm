{
 "cells": [
  {
   "cell_type": "code",
   "execution_count": null,
   "metadata": {},
   "outputs": [],
   "source": [
    "# A→AC\n",
    "N,K = map(int,input().split())\n",
    "A = list(map(int,input().split()))\n",
    "ans = []\n",
    "\n",
    "for i in range(N):\n",
    "    if A[i]%K == 0:\n",
    "        ans.append(A[i]//K)\n",
    "\n",
    "print(*ans)"
   ]
  },
  {
   "cell_type": "code",
   "execution_count": null,
   "metadata": {},
   "outputs": [],
   "source": [
    "# B→AC :A,Bで25分\n",
    "# ちょっときたないか...\n",
    "S = input()\n",
    "N = len(S)\n",
    "ans = []\n",
    "for i in range(N):\n",
    "\tfor j in range(i,N):\n",
    "\t\ttmp = S[i:j+1]\n",
    "\t\tcnt = 0\n",
    "\t\tfor k in ans:\n",
    "\t\t\tif k == tmp:\n",
    "\t\t\t\tcontinue\n",
    "\t\t\telse:\n",
    "\t\t\t\tcnt += 1\n",
    "\t\tif cnt == len(ans):\n",
    "\t\t\tans.append(tmp)\n",
    "            \n",
    "print(len(ans))"
   ]
  },
  {
   "cell_type": "code",
   "execution_count": null,
   "metadata": {},
   "outputs": [],
   "source": [
    "# C →x ABC50分でも解けず\n",
    "# 条件の確認ミス\n",
    "# 今が一週間のどこにいるかも分からない状態である。\n",
    "# N,A,B = map(int,input().split())\n",
    "# D = list(map(int,input().split()))\n",
    "# week = A+B\n",
    "\n",
    "# result = True\n",
    "# for i in range(N):\n",
    "#     if A < (D[i]%week) or D[i]%week == 0:\n",
    "#         result = False\n",
    "#         break\n",
    "# print('Yes' if result else 'No')\n",
    "\n",
    "\n",
    "N,A,B = map(int,input().split())\n",
    "D = list(map(int,input().split()))\n",
    "week = A+B\n",
    "# 余りを考えて、1週間分に落とし込む\n",
    "for i in range(N):\n",
    "    D[i] = D[i]%week\n",
    "D.sort()\n",
    "# 2週分考える\n",
    "# 連続するサイクルをシュミレートする\n",
    "for i in range(N):\n",
    "    D.append(D[i]+week)\n",
    "\n",
    "# N個の予定が休日の範囲に収まるかどうか調べる\n",
    "tmp = float('inf')\n",
    "for i in range(N):\n",
    "    tmp = min(tmp,D[i+N-1]-D[i]+1)\n",
    "print('Yes' if tmp <= A else 'No')"
   ]
  }
 ],
 "metadata": {
  "language_info": {
   "name": "python"
  }
 },
 "nbformat": 4,
 "nbformat_minor": 2
}
