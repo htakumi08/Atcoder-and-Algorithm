{
 "cells": [
  {
   "cell_type": "code",
   "execution_count": null,
   "metadata": {},
   "outputs": [],
   "source": [
    "# A-o-3分\n",
    "N = int(input())\n",
    "\n",
    "ans = []\n",
    "for i in range(1,N+1):\n",
    "    if i % 3 == 0:\n",
    "        ans.append(\"x\")\n",
    "    else:\n",
    "        ans.append(\"o\")\n",
    "print(\"\".join(ans))"
   ]
  },
  {
   "cell_type": "code",
   "execution_count": null,
   "metadata": {},
   "outputs": [],
   "source": [
    "# B-o-21分\n",
    "import math \n",
    "N = int(input())\n",
    "X,Y = [0]*N, [0]*N\n",
    "for i in range(N):\n",
    "    X[i],Y[i] = map(int,input().split())\n",
    "\n",
    "for i in range(N):\n",
    "    tmp = 0\n",
    "    result = 0\n",
    "    for j in range(N):\n",
    "        if i == j:\n",
    "            continue\n",
    "        dx = X[i]-X[j]\n",
    "        dy = Y[i]-Y[j]\n",
    "        distance = math.sqrt(dx**2 + dy**2)\n",
    "        if tmp < distance:\n",
    "            tmp = distance\n",
    "            result = j+1\n",
    "    print(result)\n"
   ]
  },
  {
   "cell_type": "code",
   "execution_count": null,
   "metadata": {},
   "outputs": [],
   "source": [
    "# C-o-23分\n",
    "# 346C-ハッシュテーブルを使う場合の注意点有解説読もうな\n",
    "from collections import defaultdict\n",
    "N = int(input())\n",
    "A,C = [0]*N,[0]*N\n",
    "for i in range(N):\n",
    "    A[i],C[i] = map(int,input().split())\n",
    "\n",
    "b = defaultdict(int)\n",
    "for i in range(N):\n",
    "    if b[C[i]] == 0:\n",
    "        b[C[i]] = A[i]\n",
    "    else:\n",
    "        b[C[i]] = min(b[C[i]], A[i])\n",
    "\n",
    "# .values()で値最大値を返す.bのままだと最大値のkeyを返す.\n",
    "print(max(b.values()))"
   ]
  },
  {
   "cell_type": "code",
   "execution_count": null,
   "metadata": {},
   "outputs": [],
   "source": [
    "# D-x\n",
    "# S→Tまで何ステップでいけるか計算\n",
    "# その後にそのあとにエネルギーが足りるのか計算の流れかなあ\n",
    "from collections import deque\n",
    "H,W = map(int,input().split())\n",
    "A = [list(map(int,input().split())) for _ in range(H)]\n",
    "\n",
    "N = int(input())\n",
    "R,C,E = [0]*N,[0]*N,[0]*N\n",
    "for i in range(N):\n",
    "    R[i],C[i],E[i] = map(int,input().split())\n",
    "\n",
    "# 差分\n",
    "dx = [0,1,0,-1]\n",
    "dy = [1,0,-1,0]\n",
    "\n",
    "\n",
    "e_count = 0\n",
    "for i in range(H):\n",
    "    for j in range(W):\n",
    "        if A[i][j] == \"#\":\n",
    "            continue\n",
    "        if A[i][j] == \"S\":\n",
    "            q = deque([i,j])\n",
    "            e_count = E[i][j]\n",
    "        \n",
    "        for k in range(N):\n",
    "            if i+1 == R[k] and j+1 == C[k]:\n",
    "            \n",
    "                if e_num < E[k]:\n",
    "                    e_num = E[k]"
   ]
  }
 ],
 "metadata": {
  "language_info": {
   "name": "python"
  }
 },
 "nbformat": 4,
 "nbformat_minor": 2
}
