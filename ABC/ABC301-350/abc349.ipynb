{
 "cells": [
  {
   "cell_type": "markdown",
   "metadata": {},
   "source": [
    "### ABC349反省  \n",
    "総じて時間かかりすぎ。  \n",
    "第一目標はABCDの四完+E問題を時間内に解けるように  \n",
    "\n",
    "A:3分B:10分C:15分D:30分=58/100 → 残り42分  \n",
    "E:42分  \n",
    "\n",
    "まずはここを目標にやるしかない。　　\n",
    "### 達成するためにやるべきこと  \n",
    "優先度1 → 2\n",
    "1. ABCを早く正確に解く\n",
    "ABCをたくさん解きある程度のパターンを学びつつ、自分の中で処理の流れを理解する  \n",
    "特にBCをもっとやったほうがいい。時間かかりすぎ.  \n",
    "\n",
    "2. 2,D,Eで出てくるアルゴリズムの理解、実際の問題を解いてみる\n",
    "アルゴリズムは使わないと使えるようにはならない。何度も使ってみたほうがいい  \n",
    "使えるようになっても、問題にたいして適切な選択ができるようにABC問題同様に解いてみるしかない.  \n",
    "\n",
    "### 次回目標\n",
    "ABC完45分\n",
    "D問題55分かけて解く."
   ]
  },
  {
   "cell_type": "code",
   "execution_count": null,
   "metadata": {},
   "outputs": [],
   "source": [
    "# A-10分-o\n",
    "N = int(input())\n",
    "A = map(int,input().split())\n",
    "\n",
    "an = sum(A)\n",
    "print(an)"
   ]
  },
  {
   "cell_type": "code",
   "execution_count": null,
   "metadata": {},
   "outputs": [],
   "source": [
    "# B-37分-o\n",
    "# 辞書型の扱いに時間かかりすぎ\n",
    "# https://docs.python.org/ja/3/library/stdtypes.html#dict\n",
    "# d = defaultdict(int):要素の数え上げに対して有効\n",
    "from collections import defaultdict\n",
    "S = input()\n",
    "\n",
    "s_dict = defaultdict(int)\n",
    "for i in S:\n",
    "    s_dict[i] += 1\n",
    "s_list = list(set(s_dict))\n",
    "\n",
    "result = True\n",
    "for i in s_list:\n",
    "    cnt = 0\n",
    "    for j in s_list:\n",
    "        if s_dict[i] == s_dict[j]:\n",
    "            cnt += 1\n",
    "    \n",
    "    if cnt != 2:\n",
    "        result = False\n",
    "\n",
    "print(\"Yes\" if result else \"No\")"
   ]
  },
  {
   "cell_type": "code",
   "execution_count": null,
   "metadata": {},
   "outputs": [],
   "source": [
    "# 解説解答\n",
    "S = input()\n",
    "# ord(c) - ord(\"a\")で文字コードaからの相対位置に+1して文字を数え上げる\n",
    "# 配列cnt は文字数分の用意\n",
    "cnt = [0] * 26\n",
    "for c in S:\n",
    "    cnt[ord(c) - ord(\"a\")] += 1\n",
    "\n",
    "# cnt2は整数i：1~100について収まるはいれつ用意.\n",
    "# 出現回数0,2のものを範囲1~100で調べて全部TrueならばYes\n",
    "cnt2 = [0] * 101\n",
    "for c in cnt:\n",
    "    if c > 0:\n",
    "        cnt2[c] += 1\n",
    "print(\"Yes\" if all(c in (0, 2) for c in cnt2) else \"No\")\n"
   ]
  },
  {
   "cell_type": "code",
   "execution_count": null,
   "metadata": {},
   "outputs": [],
   "source": [
    "# B\n",
    "from collections import Counter\n",
    "# https://docs.python.org/ja/3/library/collections.html#counter-objects\n",
    "# Counter(S):要素を辞書のkeyとしてそのカウントを辞書の値として保存する.\n",
    "\n",
    "S = input()\n",
    "c = Counter(S)\n",
    "d = Counter(c.values())\n",
    "print(\"Yes\" if set(d.values()) == set([2]) else \"No\")\n"
   ]
  },
  {
   "cell_type": "code",
   "execution_count": null,
   "metadata": {},
   "outputs": [],
   "source": [
    "# C-o-76分\n",
    "# 文字列Tの先頭から条件に合致したものを処理したかった→deque()先頭末尾へのアクセスO(1)\n",
    "\n",
    "# コードの最後がXならばそれを消して考えるのもあり\n",
    "from collections import deque\n",
    "S = input()\n",
    "T = input()\n",
    "\n",
    "tq = deque(T.lower())\n",
    "cnt = 0\n",
    "result = False\n",
    "for i in S:\n",
    "    if tq and i == tq[0]:\n",
    "        tq.popleft()\n",
    "        cnt += 1\n",
    "\n",
    "if T[2] == \"X\" and cnt == 2:\n",
    "    result = True\n",
    "elif cnt == 3:\n",
    "    result = True\n",
    "print(\"Yes\" if result else \"No\")"
   ]
  },
  {
   "cell_type": "code",
   "execution_count": null,
   "metadata": {},
   "outputs": [],
   "source": [
    "# 解説解答-C\n",
    "\n",
    "# 文字列Tに対してSを調べていく.\n",
    "# Tのある文字tとSのある文字が一致すればそのループを抜けて,次のTのある文字をしらべる.\n",
    "# Tの各文字をSのできるだけ左から対応させていく\n",
    "# Tの各文字をSの左から局所的に条件満たすか求めていく → 貪欲法のアルゴリズム\n",
    "def check(S, T):\n",
    "    i = 0\n",
    "    for t in T:\n",
    "        while i < len(S) and S[i] != t:\n",
    "            i += 1\n",
    "        if i == len(S):\n",
    "            return False\n",
    "        i += 1\n",
    "    return True\n",
    "\n",
    "S = input().upper()\n",
    "T = input()\n",
    "print(\"Yes\" if check(S, T if T[-1] != \"X\" else T[:-1]) else \"No\")\n"
   ]
  },
  {
   "cell_type": "code",
   "execution_count": null,
   "metadata": {},
   "outputs": [],
   "source": [
    "# 解説解答-C\n",
    "# 正規表現を用いて\n",
    "# 正規表現について調べる必要有\n",
    "import re\n",
    "\n",
    "S = input().upper() + \"X\"\n",
    "T = input()\n",
    "print(\"Yes\" if re.search(\".*\".join(T), S) else \"No\")\n"
   ]
  },
  {
   "cell_type": "markdown",
   "metadata": {},
   "source": []
  }
 ],
 "metadata": {
  "language_info": {
   "name": "python"
  }
 },
 "nbformat": 4,
 "nbformat_minor": 2
}
