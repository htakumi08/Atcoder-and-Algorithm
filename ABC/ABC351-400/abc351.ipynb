{
 "cells": [
  {
   "cell_type": "code",
   "execution_count": null,
   "metadata": {},
   "outputs": [],
   "source": [
    "# C-TLE\n",
    "# 実装課題：条件をつけたスタックの処理\n",
    "# 考えたのはスタックの実装。実装は合ってるはずだが計算量TLE\n",
    "# 考え方は合っているが、2のべき乗の計算や、その大きい値に対する操作により処理が重くなり実行時間かかった-★\n",
    "# 大きな数値の操作でも実行時間がかかることを把握しよう\n",
    "N = int(input())\n",
    "A = list(map(int,input().split()))\n",
    " \n",
    "from collections import deque\n",
    "que = deque()\n",
    "que.append(2**A[0])\n",
    "\n",
    "for i in range(1,N):\n",
    "    que.append(2**A[i])\n",
    "    while len(que) > 1:\n",
    "        num1 = que.pop()\n",
    "        num2 = que.pop()\n",
    "        if num1 != num2:\n",
    "            que.append(num2)\n",
    "            que.append(num1)\n",
    "            break\n",
    "        que.append(num1+num2)\n",
    "\n",
    "print(len(que))\n",
    "\n",
    "# -★ほぼ同じコードで2のべき乗計算を除いたものだと実行時間131ms\n",
    "# N = int(input())\n",
    "# A = list(map(int,input().split()))\n",
    " \n",
    "# from collections import deque\n",
    "# que = deque()\n",
    "# que.append(A[0])\n",
    "\n",
    "# for i in range(1,N):\n",
    "#     que.append(A[i])\n",
    "#     while len(que) > 1:\n",
    "#         num1 = que.pop()\n",
    "#         num2 = que.pop()\n",
    "#         if num1 != num2:\n",
    "#             que.append(num2)\n",
    "#             que.append(num1)\n",
    "#             break\n",
    "#         que.append(num1+1)\n",
    "\n",
    "# print(len(que))"
   ]
  },
  {
   "cell_type": "code",
   "execution_count": null,
   "metadata": {},
   "outputs": [],
   "source": [
    "# C解答 ↑ よりももっと簡潔にかける\n",
    "# 配列末尾とその前の操作\n",
    "N = int(input())\n",
    "A = list(map(int,input().split()))\n",
    " \n",
    "from collections import deque\n",
    "que = deque()\n",
    "que.append(A[0])\n",
    "\n",
    "for i in range(1,N):\n",
    "    que.append(A[i])\n",
    "    while len(que) >= 2 and que[-2] == que[-1]:\n",
    "        x = que.pop()\n",
    "        que.pop()\n",
    "        que.append(x+1)\n",
    "print(len(que))"
   ]
  }
 ],
 "metadata": {
  "language_info": {
   "name": "python"
  }
 },
 "nbformat": 4,
 "nbformat_minor": 2
}
