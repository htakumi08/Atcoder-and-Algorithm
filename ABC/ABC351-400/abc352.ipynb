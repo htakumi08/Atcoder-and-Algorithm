{
 "cells": [
  {
   "cell_type": "code",
   "execution_count": null,
   "metadata": {},
   "outputs": [],
   "source": [
    "#A-o\n",
    "# 数値がある区間に存在するかどうかを判定する問題\n",
    "N,X,Y,Z = map(int,input().split())\n",
    "\n",
    "x = max(X,Y)\n",
    "y = min(X,Y)\n",
    "\n",
    "result = False\n",
    "for i in range(y, x+1):\n",
    "    if i == Z:\n",
    "        result = True\n",
    "        break\n",
    "\n",
    "print(\"Yes\" if result else \"No\")"
   ]
  },
  {
   "cell_type": "code",
   "execution_count": null,
   "metadata": {},
   "outputs": [],
   "source": [
    "#b-o\n",
    "# 計算量を意識しながら、ある文字列Aの文字が別の文字列Bに文字列Aの順番で存在するかどうかを考える問題\n",
    "S = input()\n",
    "T = input()\n",
    "\n",
    "ans = []\n",
    "num = -1\n",
    "for i in range(len(S)):\n",
    "    for j in range(num+1, len(T)):\n",
    "        if S[i] == T[j]:\n",
    "            ans.append(j+1)\n",
    "            num = j\n",
    "            break\n",
    "\n",
    "print(*ans)"
   ]
  },
  {
   "cell_type": "code",
   "execution_count": null,
   "metadata": {},
   "outputs": [],
   "source": [
    "#C-o\n",
    "# あらかじめ合計値を考えておき、適宜その合計値からの差分を考え答えを出す問題\n",
    "N = int(input())\n",
    "A,B = [0]*N,[0]*N\n",
    "for i in range(N):\n",
    "    A[i],B[i] = map(int,input().split())\n",
    "\n",
    "a_sum = sum(A)\n",
    "s = []\n",
    "for i in range(N):\n",
    "    num = a_sum - A[i]\n",
    "    s.append(num+B[i])\n",
    "\n",
    "print(max(s))"
   ]
  }
 ],
 "metadata": {
  "language_info": {
   "name": "python"
  }
 },
 "nbformat": 4,
 "nbformat_minor": 2
}
