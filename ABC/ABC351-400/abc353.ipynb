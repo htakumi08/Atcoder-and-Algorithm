{
 "cells": [
  {
   "cell_type": "code",
   "execution_count": null,
   "metadata": {},
   "outputs": [],
   "source": [
    "# A-o\n",
    "N = int(input())\n",
    "H = list(map(int,input().split()))\n",
    "\n",
    "ans = -1\n",
    "for i in range(1,N):\n",
    "    if H[0] < H[i]:\n",
    "        ans = i+1\n",
    "        break\n",
    "\n",
    "print(ans)"
   ]
  }
 ],
 "metadata": {
  "language_info": {
   "name": "python"
  }
 },
 "nbformat": 4,
 "nbformat_minor": 2
}
