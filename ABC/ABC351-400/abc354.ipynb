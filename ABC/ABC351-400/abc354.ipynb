{
 "cells": [
  {
   "cell_type": "code",
   "execution_count": null,
   "metadata": {},
   "outputs": [],
   "source": [
    "# A-o\n",
    "H = int(input())\n",
    "\n",
    "i = 0\n",
    "ans = 0\n",
    "while ans <= H:\n",
    "    ans += 2**i\n",
    "    i += 1\n",
    "\n",
    "print(i)"
   ]
  },
  {
   "cell_type": "code",
   "execution_count": null,
   "metadata": {},
   "outputs": [],
   "source": [
    "# B-o\n",
    "N = int(input())\n",
    "S,C = [],[]\n",
    "for i in range(N):\n",
    "    s_,c_ =  input().split()\n",
    "    c_ = int(c_)\n",
    "    S.append(s_)\n",
    "    C.append(c_)\n",
    "\n",
    "T = sum(C)\n",
    "S.sort()\n",
    "num = T%N\n",
    "print(S[num])"
   ]
  },
  {
   "cell_type": "code",
   "execution_count": null,
   "metadata": {},
   "outputs": [],
   "source": [
    "#C-x\n",
    "# ある配列に保存できる2つのデータセットに対して、Ax>Ay,Cx<Cyのようにそれぞれを異なる大小関係を考えた\n",
    "# 片方をソートし大小を固定した状態で、もう片方のmin or maxを更新しながら比較を行っていく問題\n",
    "# データをソートして、minを更新しながらfor1回で大小比較を行う問題\n",
    "\n",
    "N = int(input())\n",
    "ACi = []\n",
    "for i in range(N):\n",
    "    ACi.append(list(map(int,input().split())) + [i+1])\n",
    "\n",
    "ACi.sort()\n",
    "min_cost = float('inf')\n",
    "ans = []\n",
    "for a,c,i in ACi[::-1]:\n",
    "    if c < min_cost:\n",
    "        min_cost = c\n",
    "        ans.append(i)\n",
    "print(len(ans))\n",
    "print(*sorted(ans))"
   ]
  }
 ],
 "metadata": {
  "language_info": {
   "name": "python"
  }
 },
 "nbformat": 4,
 "nbformat_minor": 2
}
