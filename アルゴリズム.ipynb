{
 "cells": [
  {
   "cell_type": "markdown",
   "metadata": {},
   "source": [
    "## 二分探索  \n",
    "https://qiita.com/drken/items/97e37dd6143e33a64c8c  \n",
    "https://codezine.jp/article/detail/12243"
   ]
  },
  {
   "cell_type": "markdown",
   "metadata": {},
   "source": [
    "問題: https://atcoder.jp/contests/tessoku-book/tasks"
   ]
  },
  {
   "cell_type": "code",
   "execution_count": null,
   "metadata": {},
   "outputs": [],
   "source": [
    "def binary_search(a_list, key):\n",
    "    #配列a_listの左端、右端\n",
    "    left,right = 0, len(a_list)-1\n",
    "\n",
    "    # 探索範囲がある限り\n",
    "    while right >= left:\n",
    "        # 整数値大きくなりオーバーフロー防ぐ工夫\n",
    "        mid = left + (right-left)//2\n",
    "        if a_list[mid] == key:\n",
    "            return mid\n",
    "        elif a_list[mid] > key:\n",
    "            right = mid - 1\n",
    "        else:\n",
    "            left = mid +1\n",
    "    return -1\n",
    "\n",
    "a = [1,14,32,51,51,243,419,750,910]\n",
    "\n",
    "print(binary_search(a, 51))\n",
    "print(binary_search(a, 52))\n",
    "print(binary_search(a, 243))"
   ]
  },
  {
   "cell_type": "code",
   "execution_count": null,
   "metadata": {},
   "outputs": [],
   "source": [
    "# より一般化\n",
    "def isOK(index,a,key):\n",
    "    return a[index] >= key\n",
    "\n",
    "# ok:条件満たす可能性のある最小のindex ex.配列外の大きさの数値a[2,3,78,] key=834, ok=3 \n",
    "def binary_search(a,key):\n",
    "    ng = -1\n",
    "    ok = len(a)\n",
    "\n",
    "    # abs(ok-ng)探索の範囲が動的に変化する場合:ex.前から探索か、後ろから探索か\n",
    "    # 前後の探索関係なくこの関数で求めれる一般化\n",
    "    while abs(ok-ng) > 1:\n",
    "        mid = (ok+ng)//2\n",
    "        if isOK(mid, a, key):\n",
    "            ok = mid\n",
    "        else:\n",
    "            ng = mid\n",
    "    return ok"
   ]
  },
  {
   "cell_type": "code",
   "execution_count": 1,
   "metadata": {},
   "outputs": [
    {
     "name": "stdout",
     "output_type": "stream",
     "text": [
      "3\n",
      "5\n"
     ]
    }
   ],
   "source": [
    "# 組み込みのモジュール\n",
    "import bisect\n",
    "\n",
    "a = [1,14,32,51,51,243,419,750,910]\n",
    "\n",
    "# 51が挿入されるべき最小のインデックスを探す\n",
    "index = bisect.bisect_left(a,51)\n",
    "print(index)\n",
    "\n",
    "# 51が挿入されるべき最大のインデックスの次の位置を探す\n",
    "index = bisect.bisect_right(a, 51)\n",
    "print(index)\n",
    "\n"
   ]
  },
  {
   "cell_type": "code",
   "execution_count": null,
   "metadata": {},
   "outputs": [],
   "source": [
    "#https://atcoder.jp/contests/tessoku-book/tasks/tessoku_book_k\n",
    "N,X = map(int, input().split())\n",
    "A = list(map(int, input().split()))\n",
    "# print(X)\n",
    "# print(A)\n",
    "\n",
    "def isok(index,a,key):\n",
    "    return a[index] >= key\n",
    "\n",
    "# okは探索する値が入るべき最小のindexを返す\n",
    "def binary_search(A,X):\n",
    "    ng = -1\n",
    "    ok = len(A)\n",
    "    while abs(ok-ng) > 1:\n",
    "        mid = (ok+ng)//2\n",
    "        if isok(mid,A,X):\n",
    "            ok = mid\n",
    "        else:\n",
    "            ng = mid\n",
    "    return ok+1\n",
    "\n",
    "print(binary_search(A,X))\n",
    "\n",
    "# N,X = map(int, input().split())\n",
    "# A = list(map(int, input().split()))\n",
    "# # print(X)\n",
    "# # print(A)\n",
    "\n",
    "# import bisect \n",
    "\n",
    "# index = bisect.bisect_left(A,X)\n",
    "\n",
    "# print(index + 1) "
   ]
  },
  {
   "cell_type": "code",
   "execution_count": null,
   "metadata": {},
   "outputs": [],
   "source": [
    "# A11\n",
    "N,X = map(int,input().split())\n",
    "A = list(map(int,input().split()))\n",
    "\n",
    "def isok(index,a,key):\n",
    "    return key <= a[index]\n",
    "\n",
    "ng = -1\n",
    "ok = N\n",
    "while abs(ok-ng) > 1:\n",
    "    mid = (ok+ng)//2\n",
    "    if isok(mid,A,X):\n",
    "        ok = mid\n",
    "    else:\n",
    "        ng = mid\n",
    "print(ok+1)"
   ]
  },
  {
   "cell_type": "code",
   "execution_count": null,
   "metadata": {},
   "outputs": [],
   "source": [
    "#B11\n",
    "N = int(input())\n",
    "A = list(map(int, input().split()))\n",
    "Q = int(input())\n",
    "X = [int(input()) for _ in range(Q)]\n",
    "\n",
    "A.sort()\n",
    "\n",
    "def isok(index, a, key):\n",
    "    return a[index] >= key\n",
    "\n",
    "\n",
    "def binary_search(A,key):\n",
    "    ok = N\n",
    "    ng = -1\n",
    "    while abs(ok-ng) > 1:\n",
    "        mid = (ok+ng) // 2\n",
    "        if isok(mid, A, key):\n",
    "            ok = mid\n",
    "        else:\n",
    "            ng = mid\n",
    "    return ok\n",
    "\n",
    "for key in X:\n",
    "    print(binary_search(A,key))"
   ]
  },
  {
   "cell_type": "code",
   "execution_count": null,
   "metadata": {},
   "outputs": [],
   "source": [
    "#B12\n",
    "N = int(input())\n",
    "\n",
    "def f(x):\n",
    "    return x**3 + x\n",
    "\n",
    "# pythonでの慣習的なmain関数の書き方\n",
    "if __name__ == \"__main__\":\n",
    "    max = 100.0\n",
    "    min =0.0\n",
    "    #範囲の幅100/2**20 = 0.000095<0.001\n",
    "    for _ in range(20):\n",
    "        mid = (max + min) / 2.0\n",
    "        #関数f(x)の値がmax~minのどこにあるのかを二分探索\n",
    "        val = f(mid)\n",
    "        if val > N:\n",
    "            max = mid\n",
    "        else:\n",
    "            min = mid\n",
    "    # 小数点以下指定はf\"{:}が使える\n",
    "    print(f\"{mid:.5f}\")"
   ]
  },
  {
   "cell_type": "code",
   "execution_count": null,
   "metadata": {},
   "outputs": [],
   "source": [
    "# B13\n",
    "N,K = map(int,input().split())\n",
    "A = list(map(int,input().split()))\n",
    "# 1.配列i~jまでの合計値を求めたい\n",
    "# 2.累積和用意し1を求める \n",
    "# 3.二分探索で1の合計値K以下を探索\n",
    "\n",
    "\n",
    "#累積和\n",
    "S = [0] * (N+1)\n",
    "for i in range(1,N+1):\n",
    "    S[i] = S[i-1] + A[i-1]\n",
    "\n",
    "# x,l,y,r:l+y+rを知りたい\n",
    "def sum_A(left,right,S):\n",
    "    return S[right+1] - S[left]\n",
    "\n",
    "right = [None] * N\n",
    "\n",
    "# しゃくとり法\n",
    "# 連続するリスト、配列に対して特定の条件満たす部分和をとっていく\n",
    "# 何個連続する商品を選ぶか0~N-1\n",
    "# right[]範囲の終端を示す。\n",
    "for i in range(N):\n",
    "    if i == 0:\n",
    "        right[i] = -1   \n",
    "    else:\n",
    "        right[i] = right[i-1]\n",
    "    while right[i] < N-1 and sum_A(i,right[i]+1,S) <= K:\n",
    "        right[i] += 1\n",
    "\n",
    "ans = 0\n",
    "for i in range(N):\n",
    "    ans += (right[i]-i+1)\n",
    "print(ans)"
   ]
  },
  {
   "cell_type": "code",
   "execution_count": null,
   "metadata": {},
   "outputs": [],
   "source": [
    "# B14"
   ]
  }
 ],
 "metadata": {
  "kernelspec": {
   "display_name": "base",
   "language": "python",
   "name": "python3"
  },
  "language_info": {
   "codemirror_mode": {
    "name": "ipython",
    "version": 3
   },
   "file_extension": ".py",
   "mimetype": "text/x-python",
   "name": "python",
   "nbconvert_exporter": "python",
   "pygments_lexer": "ipython3",
   "version": "3.11.4"
  }
 },
 "nbformat": 4,
 "nbformat_minor": 2
}
