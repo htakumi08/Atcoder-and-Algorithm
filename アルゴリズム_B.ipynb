{
 "cells": [
  {
   "cell_type": "markdown",
   "metadata": {},
   "source": [
    "## 累積和-応用"
   ]
  },
  {
   "cell_type": "markdown",
   "metadata": {},
   "source": [
    "## 二分探索-応用"
   ]
  },
  {
   "cell_type": "code",
   "execution_count": null,
   "metadata": {},
   "outputs": [],
   "source": [
    "#B11\n",
    "N = int(input())\n",
    "A = list(map(int, input().split()))\n",
    "Q = int(input())\n",
    "X = [int(input()) for _ in range(Q)]\n",
    "\n",
    "A.sort()\n",
    "\n",
    "def isok(index, a, key):\n",
    "    return a[index] >= key\n",
    "\n",
    "\n",
    "def binary_search(A,key):\n",
    "    ok = N\n",
    "    ng = -1\n",
    "    while abs(ok-ng) > 1:\n",
    "        mid = (ok+ng) // 2\n",
    "        if isok(mid, A, key):\n",
    "            ok = mid\n",
    "        else:\n",
    "            ng = mid\n",
    "    return ok\n",
    "\n",
    "for key in X:\n",
    "    print(binary_search(A,key))"
   ]
  },
  {
   "cell_type": "code",
   "execution_count": null,
   "metadata": {},
   "outputs": [],
   "source": [
    "#B12\n",
    "N = int(input())\n",
    "\n",
    "def f(x):\n",
    "    return x**3 + x\n",
    "\n",
    "# pythonでの慣習的なmain関数の書き方\n",
    "if __name__ == \"__main__\":\n",
    "    max = 100.0\n",
    "    min =0.0\n",
    "    #範囲の幅100/2**20 = 0.000095<0.001\n",
    "    for _ in range(20):\n",
    "        mid = (max + min) / 2.0\n",
    "        #関数f(x)の値がmax~minのどこにあるのかを二分探索\n",
    "        val = f(mid)\n",
    "        if val > N:\n",
    "            max = mid\n",
    "        else:\n",
    "            min = mid\n",
    "    # 小数点以下指定はf\"{:}が使える\n",
    "    print(f\"{mid:.5f}\")"
   ]
  },
  {
   "cell_type": "code",
   "execution_count": null,
   "metadata": {},
   "outputs": [],
   "source": [
    "# B13\n",
    "N,K = map(int,input().split())\n",
    "A = list(map(int,input().split()))\n",
    "# 1.配列i~jまでの合計値を求めたい\n",
    "# 2.累積和用意し1を求める \n",
    "# 3.二分探索で1の合計値K以下を探索\n",
    "\n",
    "\n",
    "#累積和\n",
    "S = [0] * (N+1)\n",
    "for i in range(1,N+1):\n",
    "    S[i] = S[i-1] + A[i-1]\n",
    "\n",
    "# x,l,y,r:l+y+rを知りたい\n",
    "def sum_A(left,right,S):\n",
    "    return S[right+1] - S[left]\n",
    "\n",
    "right = [None] * N\n",
    "\n",
    "# しゃくとり法\n",
    "# 連続するリスト、配列に対して特定の条件満たす部分和をとっていく\n",
    "# 何個連続する商品を選ぶか0~N-1\n",
    "# right[]範囲の終端を示す。\n",
    "for i in range(N):\n",
    "    if i == 0:\n",
    "        right[i] = -1   \n",
    "    else:\n",
    "        right[i] = right[i-1]\n",
    "    while right[i] < N-1 and sum_A(i,right[i]+1,S) <= K:\n",
    "        right[i] += 1\n",
    "\n",
    "ans = 0\n",
    "for i in range(N):\n",
    "    ans += (right[i]-i+1)\n",
    "print(ans)"
   ]
  }
 ],
 "metadata": {
  "language_info": {
   "name": "python"
  }
 },
 "nbformat": 4,
 "nbformat_minor": 2
}
